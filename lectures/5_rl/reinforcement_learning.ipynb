{
 "cells": [
  {
   "cell_type": "markdown",
   "metadata": {},
   "source": [
    "# Reinforcement Learning\n"
   ]
  },
  {
   "cell_type": "markdown",
   "metadata": {},
   "source": [
    "Solve tic-tac-toe using [magic square](https://it.wikipedia.org/wiki/Quadrato_magico).\n",
    "Picking 3 numbers from there that add up to 15 is equivalent to wining at tic tac toe.\n"
   ]
  },
  {
   "cell_type": "code",
   "execution_count": 66,
   "metadata": {},
   "outputs": [],
   "source": [
    "import numpy as np\n",
    "from collections import namedtuple, defaultdict\n",
    "from itertools import combinations\n",
    "from random import choice\n",
    "from copy import deepcopy\n",
    "from tqdm.auto import tqdm"
   ]
  },
  {
   "cell_type": "code",
   "execution_count": 59,
   "metadata": {},
   "outputs": [],
   "source": [
    "State = namedtuple(\"Position\", [\"x\", \"o\"])"
   ]
  },
  {
   "cell_type": "code",
   "execution_count": 60,
   "metadata": {},
   "outputs": [],
   "source": [
    "MAGIC = [2, 7, 6, 9, 5, 1, 4, 3, 8]"
   ]
  },
  {
   "cell_type": "code",
   "execution_count": 61,
   "metadata": {},
   "outputs": [],
   "source": [
    "def print_board(pos):\n",
    "    for r in range(3):\n",
    "        for c in range(3):\n",
    "            index = r * 3 + c\n",
    "            if MAGIC[index] in pos.x:\n",
    "                print(\"X\", end=\"\")\n",
    "            elif MAGIC[index] in pos.o:\n",
    "                print(\"O\", end=\"\")\n",
    "            else:\n",
    "                print(\" \", end=\"\")\n",
    "        print()\n",
    "    print()"
   ]
  },
  {
   "cell_type": "code",
   "execution_count": 62,
   "metadata": {},
   "outputs": [],
   "source": [
    "def win(elements):\n",
    "    return any(sum(c) == 15 for c in combinations(elements, 3))\n",
    "\n",
    "\n",
    "# Evaluate the state\n",
    "def state_value(position: State):\n",
    "    if win(position.x):\n",
    "        return 1\n",
    "    elif win(position.o):\n",
    "        return -1\n",
    "    else:\n",
    "        return 0"
   ]
  },
  {
   "cell_type": "code",
   "execution_count": 73,
   "metadata": {},
   "outputs": [],
   "source": [
    "# Starts with empty position and keeps adding on each side until someone wins\n",
    "\n",
    "\n",
    "def random_game():\n",
    "    trajectory = list()\n",
    "    state = State(set(), set())\n",
    "    available = set(range(1, 9 + 1)) - state.x - state.o\n",
    "    while available:\n",
    "        x = choice(list(available))\n",
    "        state.x.add(x)\n",
    "        available.remove(x)\n",
    "        trajectory.append(deepcopy(state))\n",
    "        if win(state.x):\n",
    "            break\n",
    "\n",
    "        if not available:\n",
    "            break\n",
    "\n",
    "        o = choice(list(available))\n",
    "        state.o.add(o)\n",
    "        available.remove(o)\n",
    "        trajectory.append(deepcopy(state))\n",
    "        if win(state.o):\n",
    "            break\n",
    "\n",
    "    return trajectory"
   ]
  },
  {
   "cell_type": "code",
   "execution_count": 64,
   "metadata": {},
   "outputs": [
    {
     "name": "stdout",
     "output_type": "stream",
     "text": [
      "0\n",
      "\n",
      "X O\n",
      "OO \n",
      "X X\n",
      "\n"
     ]
    }
   ],
   "source": [
    "state = State({2, 4, 8}, {6, 9, 5})\n",
    "print(state_value(state))\n",
    "print()\n",
    "print_board(state)"
   ]
  },
  {
   "cell_type": "code",
   "execution_count": 80,
   "metadata": {},
   "outputs": [
    {
     "name": "stderr",
     "output_type": "stream",
     "text": [
      "100%|██████████| 1000000/1000000 [02:15<00:00, 7402.59it/s]\n"
     ]
    }
   ],
   "source": [
    "value_dict = defaultdict(float)\n",
    "hit_state = defaultdict(int)\n",
    "epsilon = 0.0001\n",
    "for steps in tqdm(range(1_000_000)):\n",
    "    trajectory = random_game()\n",
    "    final_reward = state_value(trajectory[-1])\n",
    "    for state in trajectory:\n",
    "        hashable_state = State(frozenset(state.x), frozenset(state.o))\n",
    "        hit_state[hashable_state] += 1\n",
    "        value_dict[hashable_state] = value_dict[hashable_state] + epsilon * (\n",
    "            final_reward - value_dict[hashable_state]\n",
    "        )"
   ]
  },
  {
   "cell_type": "code",
   "execution_count": 82,
   "metadata": {},
   "outputs": [
    {
     "data": {
      "text/plain": [
       "[(Position(x=frozenset({5}), o=frozenset()), 0.49501840788155943),\n",
       " (Position(x=frozenset({5}), o=frozenset({9})), 0.4318671341217071),\n",
       " (Position(x=frozenset({5}), o=frozenset({3})), 0.42636385247524783),\n",
       " (Position(x=frozenset({5}), o=frozenset({1})), 0.4252544914947035),\n",
       " (Position(x=frozenset({5}), o=frozenset({7})), 0.42412489867020525),\n",
       " (Position(x=frozenset({4, 5, 6, 8, 9}), o=frozenset({1, 2, 3, 7})),\n",
       "  0.38677566752395254),\n",
       " (Position(x=frozenset({1, 2, 5, 7, 8}), o=frozenset({9, 3, 4, 6})),\n",
       "  0.38659166342461665),\n",
       " (Position(x=frozenset({4, 5, 6, 7, 9}), o=frozenset({8, 1, 2, 3})),\n",
       "  0.3861621057831405),\n",
       " (Position(x=frozenset({1, 3, 4, 5, 7}), o=frozenset({8, 9, 2, 6})),\n",
       "  0.38499464667527583),\n",
       " (Position(x=frozenset({2, 3, 4, 6, 9}), o=frozenset({8, 1, 5, 7})),\n",
       "  0.3845639706747762)]"
      ]
     },
     "execution_count": 82,
     "metadata": {},
     "output_type": "execute_result"
    }
   ],
   "source": [
    "sorted(value_dict.items(), key=lambda e: e[1], reverse=True)[:10]"
   ]
  }
 ],
 "metadata": {
  "kernelspec": {
   "display_name": ".venv",
   "language": "python",
   "name": "python3"
  },
  "language_info": {
   "codemirror_mode": {
    "name": "ipython",
    "version": 3
   },
   "file_extension": ".py",
   "mimetype": "text/x-python",
   "name": "python",
   "nbconvert_exporter": "python",
   "pygments_lexer": "ipython3",
   "version": "3.12.0"
  }
 },
 "nbformat": 4,
 "nbformat_minor": 2
}
