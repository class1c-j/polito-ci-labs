{
 "cells": [
  {
   "cell_type": "markdown",
   "metadata": {},
   "source": [
    "Copyright **`(c)`** 2023 Giovanni Squillero `<giovanni.squillero@polito.it>`  \n",
    "[`https://github.com/squillero/computational-intelligence`](https://github.com/squillero/computational-intelligence)  \n",
    "Free for personal or classroom use; see [`LICENSE.md`](https://github.com/squillero/computational-intelligence/blob/master/LICENSE.md) for details.\n"
   ]
  },
  {
   "cell_type": "markdown",
   "metadata": {},
   "source": [
    "# LAB10\n",
    "\n",
    "Use reinforcement learning to devise a tic-tac-toe player.\n",
    "\n",
    "### Deadlines:\n",
    "\n",
    "- Submission: Sunday, December 17 ([CET](https://www.timeanddate.com/time/zones/cet))\n",
    "- Reviews: Dies Natalis Solis Invicti ([CET](https://en.wikipedia.org/wiki/Sol_Invictus))\n",
    "\n",
    "Notes:\n",
    "\n",
    "- Reviews will be assigned on Monday, December 4\n",
    "- You need to commit in order to be selected as a reviewer (ie. better to commit an empty work than not to commit)\n"
   ]
  },
  {
   "cell_type": "code",
   "execution_count": 68,
   "metadata": {},
   "outputs": [],
   "source": [
    "import numpy as np\n",
    "from random import choice\n",
    "from copy import deepcopy\n",
    "from itertools import combinations\n",
    "from collections import defaultdict\n",
    "from tqdm.auto import tqdm"
   ]
  },
  {
   "cell_type": "markdown",
   "metadata": {},
   "source": [
    "## State definition\n"
   ]
  },
  {
   "cell_type": "code",
   "execution_count": 56,
   "metadata": {},
   "outputs": [],
   "source": [
    "MAGIC_SQUARE = [2, 7, 6, 9, 5, 1, 4, 3, 8]\n",
    "GOAL_SUM = 15\n",
    "BOARD_SIZE = 3\n",
    "\n",
    "\n",
    "class BoardState:\n",
    "    def __init__(self, x=None, o=None) -> None:\n",
    "        self.x_plays = x if x is not None else set()\n",
    "        self.o_plays = o if o is not None else set()\n",
    "\n",
    "    def __str__(self) -> str:\n",
    "        board_string = \"\"\n",
    "        for i in range(BOARD_SIZE):\n",
    "            for j in range(BOARD_SIZE):\n",
    "                index = i * BOARD_SIZE + j\n",
    "                if MAGIC_SQUARE[index] in self.x_plays:\n",
    "                    board_string += \"| X \"\n",
    "                elif MAGIC_SQUARE[index] in self.o_plays:\n",
    "                    board_string += \"| O \"\n",
    "                else:\n",
    "                    board_string += \"|   \"\n",
    "            board_string += \"|\\n\"\n",
    "        return board_string\n",
    "\n",
    "    def x_win(self) -> bool:\n",
    "        return any(sum(c) == GOAL_SUM for c in combinations(self.x_plays, BOARD_SIZE))\n",
    "\n",
    "    def o_win(self) -> bool:\n",
    "        return any(sum(c) == GOAL_SUM for c in combinations(self.o_plays, BOARD_SIZE))\n",
    "\n",
    "    def value(self) -> int:\n",
    "        if self.x_win():\n",
    "            return 1\n",
    "        elif self.o_win:\n",
    "            return -1\n",
    "        else:\n",
    "            return 0\n",
    "\n",
    "    def play_x(self, square: int) -> None:\n",
    "        self.x_plays.add(square)\n",
    "\n",
    "    def play_o(self, square: int) -> None:\n",
    "        self.o_plays.add(square)\n",
    "\n",
    "    def get_available(self) -> set:\n",
    "        return set(MAGIC_SQUARE) - self.x_plays - self.o_plays\n",
    "\n",
    "    def get_hashable(self) -> tuple[frozenset]:\n",
    "        return frozenset(self.x_plays), frozenset(self.o_plays)"
   ]
  },
  {
   "cell_type": "code",
   "execution_count": 57,
   "metadata": {},
   "outputs": [
    {
     "name": "stdout",
     "output_type": "stream",
     "text": [
      "|   |   |   |\n",
      "|   |   |   |\n",
      "|   |   |   |\n",
      "\n"
     ]
    }
   ],
   "source": [
    "print(BoardState())"
   ]
  },
  {
   "cell_type": "markdown",
   "metadata": {},
   "source": [
    "## Random game\n"
   ]
  },
  {
   "cell_type": "code",
   "execution_count": 61,
   "metadata": {},
   "outputs": [],
   "source": [
    "def random_game():\n",
    "    history = list()\n",
    "    state = BoardState()\n",
    "    available = list(state.get_available())\n",
    "    while available:\n",
    "        x = choice(available)\n",
    "        state.play_x(x)\n",
    "        available.remove(x)\n",
    "        history.append(deepcopy(state))\n",
    "        if state.x_win() or not available:\n",
    "            break\n",
    "\n",
    "        o = choice(available)\n",
    "        state.play_o(o)\n",
    "        available.remove(o)\n",
    "        history.append(deepcopy(state))\n",
    "        if state.o_win() or not available:\n",
    "            break\n",
    "\n",
    "    return history"
   ]
  },
  {
   "cell_type": "code",
   "execution_count": 62,
   "metadata": {},
   "outputs": [
    {
     "name": "stdout",
     "output_type": "stream",
     "text": [
      "|   | O |   |\n",
      "| X | X | X |\n",
      "|   |   | O |\n",
      "\n"
     ]
    }
   ],
   "source": [
    "last = random_game()[-1]\n",
    "print(last)"
   ]
  },
  {
   "cell_type": "markdown",
   "metadata": {},
   "source": [
    "## Montecarlo reinforcement learning\n"
   ]
  },
  {
   "cell_type": "code",
   "execution_count": 63,
   "metadata": {},
   "outputs": [
    {
     "name": "stderr",
     "output_type": "stream",
     "text": [
      "100%|██████████| 1000000/1000000 [02:20<00:00, 7121.38it/s]\n"
     ]
    }
   ],
   "source": [
    "value_dict = defaultdict(float)\n",
    "hit_state = defaultdict(int)\n",
    "\n",
    "LEARNING_RATE = 1e-4\n",
    "EPISODES = 1_000_000\n",
    "\n",
    "for steps in tqdm(range(EPISODES)):\n",
    "    history = random_game()\n",
    "    final_reward = history[-1].value()\n",
    "    for state in history:\n",
    "        hashable_state = state.get_hashable()\n",
    "        hit_state[hashable_state] += 1\n",
    "        value_dict[hashable_state] = value_dict[hashable_state] + LEARNING_RATE * (\n",
    "            final_reward - value_dict[hashable_state]\n",
    "        )"
   ]
  },
  {
   "cell_type": "code",
   "execution_count": 66,
   "metadata": {},
   "outputs": [
    {
     "data": {
      "text/plain": [
       "[((frozenset({2, 6, 7, 8, 9}), frozenset({1, 3, 4, 5})), 0.38757238101653035),\n",
       " ((frozenset({1, 3, 4, 5, 6}), frozenset({2, 7, 8, 9})), 0.38548647879087267),\n",
       " ((frozenset({2, 5, 7, 8, 9}), frozenset({1, 3, 4, 6})), 0.38419457978114274),\n",
       " ((frozenset({1, 6, 7, 8, 9}), frozenset({2, 3, 4, 5})), 0.38320845311068497),\n",
       " ((frozenset({1, 4, 5, 7, 9}), frozenset({2, 3, 6, 8})), 0.38289996479691624),\n",
       " ((frozenset({1, 2, 4, 5, 8}), frozenset({3, 6, 7, 9})), 0.3825295751502216),\n",
       " ((frozenset({1, 2, 3, 5, 9}), frozenset({4, 6, 7, 8})), 0.38246782193241485),\n",
       " ((frozenset({1, 2, 3, 5, 7}), frozenset({4, 6, 8, 9})), 0.3820971729092273),\n",
       " ((frozenset({1, 2, 3, 6, 7}), frozenset({4, 5, 8, 9})), 0.3819735738042524),\n",
       " ((frozenset({3, 4, 6, 8, 9}), frozenset({1, 2, 5, 7})), 0.3814789300995989)]"
      ]
     },
     "execution_count": 66,
     "metadata": {},
     "output_type": "execute_result"
    }
   ],
   "source": [
    "top = sorted(value_dict.items(), key=lambda e: e[1], reverse=True)[:10]\n",
    "top"
   ]
  },
  {
   "cell_type": "code",
   "execution_count": 72,
   "metadata": {},
   "outputs": [
    {
     "name": "stdout",
     "output_type": "stream",
     "text": [
      "| X | X | X |\n",
      "| X | O | O |\n",
      "| O | O | X |\n",
      "\n"
     ]
    }
   ],
   "source": [
    "print(BoardState(set(top[0][0][0]), set(top[0][0][1])))"
   ]
  }
 ],
 "metadata": {
  "kernelspec": {
   "display_name": "ci-fLJ3OwGs-py3.12",
   "language": "python",
   "name": "python3"
  },
  "language_info": {
   "codemirror_mode": {
    "name": "ipython",
    "version": 3
   },
   "file_extension": ".py",
   "mimetype": "text/x-python",
   "name": "python",
   "nbconvert_exporter": "python",
   "pygments_lexer": "ipython3",
   "version": "3.12.0"
  }
 },
 "nbformat": 4,
 "nbformat_minor": 2
}
