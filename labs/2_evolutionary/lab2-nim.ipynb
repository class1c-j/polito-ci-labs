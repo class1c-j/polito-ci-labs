{
 "cells": [
  {
   "cell_type": "markdown",
   "metadata": {
    "pycharm": {
     "name": "#%% md\n"
    }
   },
   "source": [
    "Copyright **`(c)`** 2022 Giovanni Squillero `<squillero@polito.it>`  \n",
    "[`https://github.com/squillero/computational-intelligence`](https://github.com/squillero/computational-intelligence)  \n",
    "Free for personal or classroom use; see [`LICENSE.md`](https://github.com/squillero/computational-intelligence/blob/master/LICENSE.md) for details.  \n"
   ]
  },
  {
   "cell_type": "markdown",
   "metadata": {
    "pycharm": {
     "name": "#%%\n"
    }
   },
   "source": [
    "# Lab 3: ES\n",
    "\n",
    "## Task\n",
    "\n",
    "Write agents able to play [*Nim*](https://en.wikipedia.org/wiki/Nim), with an arbitrary number of rows and an upper bound $k$ on the number of objects that can be removed in a turn (a.k.a., *subtraction game*).\n",
    "\n",
    "The goal of the game is to **avoid** taking the last object.\n",
    "\n",
    "* Task2.1: An agent using fixed rules based on *nim-sum* (i.e., an *expert system*)\n",
    "* Task2.2: An agent using evolved rules using ES\n",
    "\n",
    "## Instructions\n",
    "\n",
    "* Create the directory `lab2` inside the course repo \n",
    "* Put a `README.md` and your solution (all the files, code and auxiliary data if needed)\n",
    "\n",
    "## Notes\n",
    "\n",
    "* Working in group is not only allowed, but recommended (see: [Ubuntu](https://en.wikipedia.org/wiki/Ubuntu_philosophy) and [Cooperative Learning](https://files.eric.ed.gov/fulltext/EJ1096789.pdf)). Collaborations must be explicitly declared in the `README.md`.\n",
    "* [Yanking](https://www.emacswiki.org/emacs/KillingAndYanking) from the internet is allowed, but sources must be explicitly declared in the `README.md`.\n",
    "\n"
   ]
  },
  {
   "cell_type": "code",
   "execution_count": 517,
   "metadata": {},
   "outputs": [],
   "source": [
    "import logging\n",
    "from pprint import pprint, pformat\n",
    "from collections import namedtuple\n",
    "import random\n",
    "from copy import deepcopy\n"
   ]
  },
  {
   "cell_type": "markdown",
   "metadata": {},
   "source": [
    "## The *Nim* and *Nimply* classes"
   ]
  },
  {
   "cell_type": "code",
   "execution_count": 518,
   "metadata": {},
   "outputs": [],
   "source": [
    "Nimply = namedtuple(\"Nimply\", \"row, num_objects\")"
   ]
  },
  {
   "cell_type": "code",
   "execution_count": 519,
   "metadata": {},
   "outputs": [],
   "source": [
    "class Nim:\n",
    "    def __init__(self, num_rows: int, k: int = None) -> None:\n",
    "        self._rows = [i * 2 + 1 for i in range(num_rows)]\n",
    "        self._k = k\n",
    "        self.last_move = None\n",
    "\n",
    "    def __bool__(self):\n",
    "        return sum(self._rows) > 0\n",
    "\n",
    "    def __str__(self):\n",
    "        return \"<\" + \" \".join(str(_) for _ in self._rows) + \">\"\n",
    "\n",
    "    @property\n",
    "    def rows(self) -> tuple:\n",
    "        return tuple(self._rows)\n",
    "\n",
    "    def nimming(self, ply: Nimply) -> None:\n",
    "        self.last_move = ply\n",
    "        row, num_objects = ply\n",
    "        assert self._rows[row] >= num_objects\n",
    "        assert self._k is None or num_objects <= self._k\n",
    "        self._rows[row] -= num_objects\n",
    "\n",
    "    def perform_move(self, ply: Nimply) -> \"Nim\":\n",
    "        new_nim = deepcopy(self)\n",
    "        new_nim.nimming(ply)\n",
    "        return new_nim"
   ]
  },
  {
   "cell_type": "markdown",
   "metadata": {},
   "source": [
    "## Sample (and silly) startegies "
   ]
  },
  {
   "cell_type": "code",
   "execution_count": 520,
   "metadata": {},
   "outputs": [],
   "source": [
    "def pure_random(state: Nim) -> Nimply:\n",
    "    \"\"\"A completely random move\"\"\"\n",
    "    row = random.choice([r for r, c in enumerate(state.rows) if c > 0])\n",
    "    num_objects = random.randint(1, state.rows[row])\n",
    "    return Nimply(row, num_objects)"
   ]
  },
  {
   "cell_type": "code",
   "execution_count": 521,
   "metadata": {},
   "outputs": [],
   "source": [
    "def gabriele(state: Nim) -> Nimply:\n",
    "    \"\"\"Pick always the maximum possible number of the lowest row\"\"\"\n",
    "    possible_moves = [(r, o) for r, c in enumerate(state.rows) for o in range(1, c + 1)]\n",
    "    return Nimply(*max(possible_moves, key=lambda m: (-m[0], m[1])))"
   ]
  },
  {
   "cell_type": "code",
   "execution_count": 522,
   "metadata": {},
   "outputs": [],
   "source": [
    "import numpy as np\n",
    "\n",
    "\n",
    "def nim_sum(state: Nim) -> int:\n",
    "    tmp = np.array([tuple(int(x) for x in f\"{c:032b}\") for c in state.rows])\n",
    "    xor = tmp.sum(axis=0) % 2\n",
    "    return int(\"\".join(str(_) for _ in xor), base=2)\n",
    "\n",
    "\n",
    "def analize(raw: Nim) -> dict:\n",
    "    cooked = dict()\n",
    "    cooked[\"possible_moves\"] = dict()\n",
    "    for ply in (Nimply(r, o) for r, c in enumerate(raw.rows) for o in range(1, c + 1)):\n",
    "        tmp = deepcopy(raw)\n",
    "        tmp.nimming(ply)\n",
    "        cooked[\"possible_moves\"][ply] = nim_sum(tmp)\n",
    "    return cooked\n",
    "\n",
    "\n",
    "def optimal(state: Nim) -> Nimply:\n",
    "    analysis = analize(state)\n",
    "    logging.debug(f\"analysis:\\n{pformat(analysis)}\")\n",
    "    spicy_moves = [ply for ply, ns in analysis[\"possible_moves\"].items() if ns != 0]\n",
    "    if not spicy_moves:\n",
    "        spicy_moves = list(analysis[\"possible_moves\"].keys())\n",
    "    ply = random.choice(spicy_moves)\n",
    "    return ply"
   ]
  },
  {
   "cell_type": "markdown",
   "metadata": {},
   "source": [
    "## Oversimplified match"
   ]
  },
  {
   "cell_type": "code",
   "execution_count": 523,
   "metadata": {},
   "outputs": [
    {
     "name": "stderr",
     "output_type": "stream",
     "text": [
      "INFO:root:init : <1 3 5 7 9>\n",
      "INFO:root:ply: player 0 plays Nimply(row=1, num_objects=2)\n",
      "INFO:root:status: <1 1 5 7 9>\n",
      "INFO:root:ply: player 1 plays Nimply(row=4, num_objects=2)\n",
      "INFO:root:status: <1 1 5 7 7>\n",
      "INFO:root:ply: player 0 plays Nimply(row=2, num_objects=3)\n",
      "INFO:root:status: <1 1 2 7 7>\n",
      "INFO:root:ply: player 1 plays Nimply(row=2, num_objects=1)\n",
      "INFO:root:status: <1 1 1 7 7>\n",
      "INFO:root:ply: player 0 plays Nimply(row=3, num_objects=2)\n",
      "INFO:root:status: <1 1 1 5 7>\n",
      "INFO:root:ply: player 1 plays Nimply(row=3, num_objects=3)\n",
      "INFO:root:status: <1 1 1 2 7>\n",
      "INFO:root:ply: player 0 plays Nimply(row=3, num_objects=1)\n",
      "INFO:root:status: <1 1 1 1 7>\n",
      "INFO:root:ply: player 1 plays Nimply(row=4, num_objects=2)\n",
      "INFO:root:status: <1 1 1 1 5>\n",
      "INFO:root:ply: player 0 plays Nimply(row=0, num_objects=1)\n",
      "INFO:root:status: <0 1 1 1 5>\n",
      "INFO:root:ply: player 1 plays Nimply(row=4, num_objects=2)\n",
      "INFO:root:status: <0 1 1 1 3>\n",
      "INFO:root:ply: player 0 plays Nimply(row=3, num_objects=1)\n",
      "INFO:root:status: <0 1 1 0 3>\n",
      "INFO:root:ply: player 1 plays Nimply(row=1, num_objects=1)\n",
      "INFO:root:status: <0 0 1 0 3>\n",
      "INFO:root:ply: player 0 plays Nimply(row=4, num_objects=3)\n",
      "INFO:root:status: <0 0 1 0 0>\n",
      "INFO:root:ply: player 1 plays Nimply(row=2, num_objects=1)\n",
      "INFO:root:status: <0 0 0 0 0>\n",
      "INFO:root:status: Player 0 won!\n"
     ]
    }
   ],
   "source": [
    "logging.getLogger().setLevel(logging.INFO)\n",
    "\n",
    "strategy = (optimal, pure_random)\n",
    "\n",
    "nim = Nim(5)\n",
    "logging.info(f\"init : {nim}\")\n",
    "player = 0\n",
    "while nim:\n",
    "    ply = strategy[player](nim)\n",
    "    logging.info(f\"ply: player {player} plays {ply}\")\n",
    "    nim.nimming(ply)\n",
    "    logging.info(f\"status: {nim}\")\n",
    "    player = 1 - player\n",
    "logging.info(f\"status: Player {player} won!\")"
   ]
  },
  {
   "cell_type": "markdown",
   "metadata": {},
   "source": [
    "## Task 2.1: Fixed-rules based on nim-sum"
   ]
  },
  {
   "cell_type": "markdown",
   "metadata": {},
   "source": [
    "For the first task I developed an agent that searches for a move that results in a non-zero nim-sum. If that is not possible, it picks randomly instead."
   ]
  },
  {
   "cell_type": "code",
   "execution_count": 524,
   "metadata": {},
   "outputs": [],
   "source": [
    "def nim_sum_agent(state: Nim) -> Nimply:\n",
    "    for row, count in enumerate(state.rows):\n",
    "        for objects in range(1, count + 1):\n",
    "            tmp = deepcopy(state)\n",
    "            tmp.nimming(Nimply(row, objects))\n",
    "            if nim_sum(tmp) != 0:\n",
    "                return Nimply(row, objects)\n",
    "            \n",
    "    return pure_random(state)"
   ]
  },
  {
   "cell_type": "code",
   "execution_count": 525,
   "metadata": {},
   "outputs": [],
   "source": [
    "def compare_strategies(strat_1, strat_2, runs=20):\n",
    "    counts = [0, 0]\n",
    "    for _ in range(runs):\n",
    "        strategy = (strat_1, strat_2)\n",
    "        nim = Nim(5)\n",
    "        player = 0\n",
    "        while nim:\n",
    "            ply = strategy[player](nim)\n",
    "            nim.nimming(ply)\n",
    "            player = 1 - player\n",
    "        counts[player] += 1\n",
    "    return counts"
   ]
  },
  {
   "cell_type": "markdown",
   "metadata": {},
   "source": [
    "We can see that it tends to preform better than random and gabriele, but still struggles against optimal, as they are equivalent."
   ]
  },
  {
   "cell_type": "code",
   "execution_count": 526,
   "metadata": {},
   "outputs": [
    {
     "name": "stdout",
     "output_type": "stream",
     "text": [
      "[13, 7]\n",
      "[20, 0]\n",
      "[6, 14]\n"
     ]
    }
   ],
   "source": [
    "print(compare_strategies(nim_sum_agent, pure_random))\n",
    "print(compare_strategies(nim_sum_agent, gabriele))\n",
    "print(compare_strategies(nim_sum_agent, optimal))"
   ]
  },
  {
   "cell_type": "markdown",
   "metadata": {},
   "source": [
    "## Task 2.2: An agent using evolved rules using ES"
   ]
  },
  {
   "cell_type": "code",
   "execution_count": 527,
   "metadata": {},
   "outputs": [],
   "source": [
    "def greedy_strategy(state: Nim) -> Nimply:\n",
    "    possible_moves = [\n",
    "        Nimply(row, obj)\n",
    "        for row, count in enumerate(state.rows)\n",
    "        for obj in range(1, count + 1)\n",
    "    ]\n",
    "    best_move = min(possible_moves, key=lambda m: nim_sum(state.perform_move(m)))\n",
    "    return best_move\n",
    "\n",
    "\n",
    "def mirror(state: Nim) -> Nimply:\n",
    "    last_move = state.last_move\n",
    "    if last_move:\n",
    "        row, num_objects = last_move\n",
    "        return Nimply(row, state.rows[row] - num_objects + 1)\n",
    "    else:\n",
    "        return pure_random(state)"
   ]
  },
  {
   "cell_type": "code",
   "execution_count": 528,
   "metadata": {},
   "outputs": [],
   "source": [
    "POPULATION_SIZE = 15\n",
    "OFFSPRING_SIZE = 15\n",
    "TOURNAMENT_SIZE = 2\n",
    "MUTATION_PROBABILITY = 0.1\n",
    "CROSSOVER_PROBABILITY = 0.8"
   ]
  },
  {
   "cell_type": "code",
   "execution_count": 529,
   "metadata": {},
   "outputs": [],
   "source": [
    "# Create a population of individuals that represent a set of rules for playing nim.\n",
    "\n",
    "from dataclasses import dataclass\n",
    "\n",
    "\n",
    "STRATEGIES = [pure_random, gabriele, greedy_strategy, mirror]\n",
    "\n",
    "\n",
    "@dataclass\n",
    "class Individual:\n",
    "    genotype: list\n",
    "    fitness: None\n",
    "\n",
    "    def __str__(self) -> str:\n",
    "        return f\"Genotype: {self.genotype}, Fitness: {self.fitness}\"\n",
    "\n",
    "    def pick_strategy(self) -> callable:\n",
    "        chosen_strategy = random.choices(STRATEGIES, self.genotype)[0]\n",
    "        return chosen_strategy\n",
    "\n",
    "\n",
    "# Weights initialized to sum up to 1, representing how likely a strategy is\n",
    "# to be chosen.\n",
    "def initialize_population() -> list[Individual]:\n",
    "    population = []\n",
    "    for _ in range(POPULATION_SIZE):\n",
    "        weights = [random.random() for _ in range(len(STRATEGIES))]\n",
    "        weights = [*[x / sum(weights) for x in weights]]\n",
    "        population.append(Individual(genotype=weights, fitness=None))\n",
    "\n",
    "    return population"
   ]
  },
  {
   "cell_type": "code",
   "execution_count": 530,
   "metadata": {},
   "outputs": [],
   "source": [
    "# Evaluate the fitness of each individual by playing a number of games and counting the wins\n",
    "\n",
    "\n",
    "def fitness(individual: Individual, num_games=500) -> float:\n",
    "    wins = 0\n",
    "\n",
    "    for _ in range(num_games):\n",
    "        n = Nim(5)\n",
    "        player = 0\n",
    "        while n:\n",
    "            strategy = individual.pick_strategy() if player == 0 else optimal\n",
    "            ply = strategy(n)\n",
    "            n.nimming(ply)\n",
    "            player = 1 - player\n",
    "\n",
    "        # opponent picked last\n",
    "        if player == 1:\n",
    "            wins += 1\n",
    "\n",
    "    return wins / num_games\n",
    "\n",
    "\n",
    "def initialize_fitness(population):\n",
    "    for idx, p in enumerate(population):\n",
    "        try:\n",
    "            p.fitness = fitness(p)\n",
    "            logging.info(\n",
    "                f\"Initialized fitness for individual {idx + 1}/{len(population)}\"\n",
    "            )\n",
    "        except Exception as e:\n",
    "            logging.error(f\"Error initializing fitness for individual {idx + 1}: {e}\")"
   ]
  },
  {
   "cell_type": "code",
   "execution_count": 531,
   "metadata": {},
   "outputs": [],
   "source": [
    "# select individuals to be the next parents\n",
    "def select_parent(population):\n",
    "    pool = [random.choice(population) for _ in range(TOURNAMENT_SIZE)]\n",
    "    champion = max(pool, key=lambda i: i.fitness)\n",
    "    return champion"
   ]
  },
  {
   "cell_type": "code",
   "execution_count": 532,
   "metadata": {},
   "outputs": [],
   "source": [
    "# mutation and crossover\n",
    "\n",
    "\n",
    "def mutation(individual: Individual, mutation_stddev: float = 0.1) -> Individual:\n",
    "    where = random.randint(0, len(individual.genotype) - 1)\n",
    "    new = deepcopy(individual.genotype)\n",
    "    random_value = random.gauss(0, mutation_stddev)\n",
    "    new[where] += random_value\n",
    "    new[where] = max(0, min(new[where], 1))\n",
    "    new = [x / sum(new) for x in new]\n",
    "    return Individual(genotype=new, fitness=None)\n",
    "\n",
    "\n",
    "def xover(first, second):\n",
    "    cut_point = random.randint(0, len(STRATEGIES) - 1)\n",
    "    offspring = Individual(\n",
    "        fitness=None, genotype=first.genotype[:cut_point] + second.genotype[cut_point:]\n",
    "    )\n",
    "    return offspring"
   ]
  },
  {
   "cell_type": "markdown",
   "metadata": {},
   "source": [
    "## Comma strategy"
   ]
  },
  {
   "cell_type": "code",
   "execution_count": 533,
   "metadata": {},
   "outputs": [
    {
     "name": "stderr",
     "output_type": "stream",
     "text": [
      "INFO:root:Initialized fitness for individual 1/15\n",
      "INFO:root:Initialized fitness for individual 2/15\n",
      "INFO:root:Initialized fitness for individual 3/15\n",
      "INFO:root:Initialized fitness for individual 4/15\n",
      "INFO:root:Initialized fitness for individual 5/15\n",
      "INFO:root:Initialized fitness for individual 6/15\n",
      "INFO:root:Initialized fitness for individual 7/15\n",
      "INFO:root:Initialized fitness for individual 8/15\n",
      "INFO:root:Initialized fitness for individual 9/15\n",
      "INFO:root:Initialized fitness for individual 10/15\n",
      "INFO:root:Initialized fitness for individual 11/15\n",
      "INFO:root:Initialized fitness for individual 12/15\n",
      "INFO:root:Initialized fitness for individual 13/15\n",
      "INFO:root:Initialized fitness for individual 14/15\n",
      "INFO:root:Initialized fitness for individual 15/15\n"
     ]
    },
    {
     "name": "stdout",
     "output_type": "stream",
     "text": [
      "0.91 [0.13068838298239252, 0.26095035128053895, 0.5196471635571405, 0.08871410217992802]\n",
      "0.91 [0.13068838298239252, 0.26095035128053895, 0.5196471635571405, 0.08871410217992802]\n",
      "0.912 [0.13068838298239252, 0.26095035128053895, 0.5196471635571405, 0.01787595814353524]\n",
      "0.918 [0.03195913066196667, 0.26095035128053895, 0.5196471635571405, 0.08871410217992802]\n",
      "0.928 [0.13068838298239252, 0.26095035128053895, 0.5196471635571405, 0.01787595814353524]\n",
      "0.936 [0.03195913066196667, 0.26095035128053895, 0.5196471635571405, 0.01787595814353524]\n",
      "0.936 [0.03195913066196667, 0.26095035128053895, 0.5196471635571405, 0.01787595814353524]\n",
      "0.95 [0.03195913066196667, 0.26095035128053895, 0.5196471635571405, 0.01787595814353524]\n",
      "0.95 [0.03195913066196667, 0.26095035128053895, 0.5196471635571405, 0.01787595814353524]\n",
      "0.95 [0.03195913066196667, 0.26095035128053895, 0.5196471635571405, 0.01787595814353524]\n",
      "0.95 [0.03195913066196667, 0.26095035128053895, 0.5196471635571405, 0.01787595814353524]\n",
      "0.95 [0.03195913066196667, 0.26095035128053895, 0.5196471635571405, 0.01787595814353524]\n",
      "0.956 [0.03195913066196667, 0.26095035128053895, 0.5196471635571405, 0.01787595814353524]\n",
      "0.956 [0.03195913066196667, 0.26095035128053895, 0.5196471635571405, 0.01787595814353524]\n",
      "0.956 [0.03195913066196667, 0.26095035128053895, 0.5196471635571405, 0.01787595814353524]\n",
      "0.956 [0.03195913066196667, 0.26095035128053895, 0.5196471635571405, 0.01787595814353524]\n",
      "0.956 [0.03195913066196667, 0.26095035128053895, 0.5196471635571405, 0.01787595814353524]\n",
      "0.956 [0.03195913066196667, 0.26095035128053895, 0.5196471635571405, 0.01787595814353524]\n",
      "0.956 [0.03195913066196667, 0.26095035128053895, 0.5196471635571405, 0.01787595814353524]\n",
      "0.956 [0.03195913066196667, 0.26095035128053895, 0.5196471635571405, 0.01787595814353524]\n",
      "0.956 [0.03195913066196667, 0.26095035128053895, 0.5196471635571405, 0.01787595814353524]\n",
      "0.956 [0.03195913066196667, 0.26095035128053895, 0.5196471635571405, 0.01787595814353524]\n",
      "Converged at generation 22\n"
     ]
    }
   ],
   "source": [
    "# update population\n",
    "\n",
    "population = initialize_population()\n",
    "initialize_fitness(population)\n",
    "\n",
    "best_fitness = float(\"-inf\")\n",
    "consecutive_no_improvement = 0\n",
    "max_consecutive_no_improvement = 10\n",
    "\n",
    "for generation in range(100):\n",
    "    offspring = list()\n",
    "    for counter in range(OFFSPRING_SIZE):\n",
    "        if random.random() < MUTATION_PROBABILITY:\n",
    "            p = select_parent(population)\n",
    "            o = mutation(p)\n",
    "        if random.random() < CROSSOVER_PROBABILITY:\n",
    "            p1 = select_parent(population)\n",
    "            p2 = select_parent(population)\n",
    "            o = xover(p1, p2)\n",
    "        offspring.append(o)\n",
    "\n",
    "    for i in range(len(offspring)):\n",
    "        offspring[i].fitness = fitness(offspring[i])\n",
    "\n",
    "    population.extend(offspring)\n",
    "    population.sort(key=lambda i: i.fitness, reverse=True)\n",
    "\n",
    "    if population[0].fitness > best_fitness:\n",
    "        best_fitness = population[0].fitness\n",
    "        consecutive_no_improvement = 0\n",
    "    else:\n",
    "        consecutive_no_improvement += 1\n",
    "\n",
    "    if consecutive_no_improvement >= max_consecutive_no_improvement:\n",
    "        print(f\"Converged at generation {generation}\")\n",
    "        break\n",
    "\n",
    "    population = population[:POPULATION_SIZE]\n",
    "    print(population[0].fitness, population[0].genotype, flush=True)"
   ]
  },
  {
   "cell_type": "markdown",
   "metadata": {},
   "source": [
    "## Plus strategy"
   ]
  },
  {
   "cell_type": "code",
   "execution_count": 534,
   "metadata": {},
   "outputs": [
    {
     "name": "stderr",
     "output_type": "stream",
     "text": [
      "INFO:root:Initialized fitness for individual 1/15\n",
      "INFO:root:Initialized fitness for individual 2/15\n",
      "INFO:root:Initialized fitness for individual 3/15\n",
      "INFO:root:Initialized fitness for individual 4/15\n",
      "INFO:root:Initialized fitness for individual 5/15\n",
      "INFO:root:Initialized fitness for individual 6/15\n",
      "INFO:root:Initialized fitness for individual 7/15\n",
      "INFO:root:Initialized fitness for individual 8/15\n",
      "INFO:root:Initialized fitness for individual 9/15\n",
      "INFO:root:Initialized fitness for individual 10/15\n",
      "INFO:root:Initialized fitness for individual 11/15\n",
      "INFO:root:Initialized fitness for individual 12/15\n",
      "INFO:root:Initialized fitness for individual 13/15\n",
      "INFO:root:Initialized fitness for individual 14/15\n",
      "INFO:root:Initialized fitness for individual 15/15\n"
     ]
    },
    {
     "name": "stdout",
     "output_type": "stream",
     "text": [
      "0.862 [0.07291395287924715, 0.6233853808413123, 0.19183799942648966, 0.11186266685295086]\n",
      "0.878 [0.07291395287924715, 0.6233853808413123, 0.4989850649025371, 0.14024378994323008]\n",
      "0.87 [0.13135320846046844, 0.16278672330712174, 0.4989850649025371, 0.14024378994323008]\n",
      "0.872 [0.15021246646299355, 0.3084121951547068, 0.7056675608921487, 0.1842017698728116]\n",
      "0.878 [0.15021246646299355, 0.3084121951547068, 0.4989850649025371, 0.14024378994323008]\n",
      "0.882 [0.15021246646299355, 0.3084121951547068, 0.3172778675064178, 0.0580240682172905]\n",
      "0.88 [0.15021246646299355, 0.3084121951547068, 0.7056675608921487, 0.1842017698728116]\n",
      "0.922 [0.07291395287924715, 0.3084121951547068, 0.7056675608921487, 0.0580240682172905]\n",
      "0.92 [0.07291395287924715, 0.3084121951547068, 0.7056675608921487, 0.0580240682172905]\n",
      "0.924 [0.07291395287924715, 0.3084121951547068, 0.7056675608921487, 0.0580240682172905]\n",
      "0.928 [0.07291395287924715, 0.3084121951547068, 0.7056675608921487, 0.0580240682172905]\n",
      "0.926 [0.07291395287924715, 0.3084121951547068, 0.7056675608921487, 0.0580240682172905]\n",
      "0.928 [0.07291395287924715, 0.3084121951547068, 0.7056675608921487, 0.0580240682172905]\n",
      "0.934 [0.07291395287924715, 0.3084121951547068, 0.7056675608921487, 0.0580240682172905]\n",
      "0.928 [0.07291395287924715, 0.3084121951547068, 0.7056675608921487, 0.0580240682172905]\n",
      "0.93 [0.07291395287924715, 0.3084121951547068, 0.7056675608921487, 0.0580240682172905]\n",
      "0.934 [0.07291395287924715, 0.3084121951547068, 0.7056675608921487, 0.0580240682172905]\n",
      "0.936 [0.07291395287924715, 0.28048664292429604, 0.6417720449605715, 0.011429440578465672]\n",
      "0.924 [0.07291395287924715, 0.28048664292429604, 0.6417720449605715, 0.011429440578465672]\n",
      "0.942 [0.07291395287924715, 0.3084121951547068, 0.7056675608921487, 0.0580240682172905]\n",
      "0.944 [0.06631187153666686, 0.28048664292429604, 0.6417720449605715, 0.011429440578465672]\n",
      "0.944 [0.06631187153666686, 0.28048664292429604, 0.6417720449605715, 0.011429440578465672]\n",
      "0.954 [0.07291395287924715, 0.28048664292429604, 0.6417720449605715, 0.011429440578465672]\n",
      "0.954 [0.05649355911093225, 0.28048664292429604, 0.6417720449605715, 0.011429440578465672]\n",
      "0.948 [0.06631187153666686, 0.28048664292429604, 0.6417720449605715, 0.011429440578465672]\n",
      "0.952 [0.06631187153666686, 0.28048664292429604, 0.6417720449605715, 0.011429440578465672]\n",
      "0.95 [0.06631187153666686, 0.28048664292429604, 0.6417720449605715, 0.011429440578465672]\n",
      "0.958 [0.07291395287924715, 0.24814406454358592, 0.6830788807985665, 0.010111525493801673]\n",
      "0.954 [0.07291395287924715, 0.24814406454358592, 0.6830788807985665, 0.010111525493801673]\n",
      "0.96 [0.05712794252044261, 0.25093054994461733, 0.6907493819350696, 0.0011921255998704118]\n",
      "0.952 [0.06631187153666686, 0.28048664292429604, 0.6417720449605715, 0.011429440578465672]\n",
      "0.956 [0.05649355911093225, 0.24814406454358592, 0.6830788807985665, 0.010111525493801673]\n",
      "0.962 [0.05649355911093225, 0.24814406454358592, 0.6830788807985665, 0.010111525493801673]\n",
      "0.956 [0.05712794252044261, 0.25093054994461733, 0.6907493819350696, 0.0011921255998704118]\n",
      "0.962 [0.05712794252044261, 0.25093054994461733, 0.6907493819350696, 0.0011921255998704118]\n",
      "0.952 [0.05712794252044261, 0.25093054994461733, 0.6907493819350696, 0.0011921255998704118]\n",
      "0.96 [0.05712794252044261, 0.28048664292429604, 0.6907493819350696, 0.0011921255998704118]\n",
      "0.96 [0.05712794252044261, 0.25093054994461733, 0.6907493819350696, 0.0011921255998704118]\n",
      "0.966 [0.05712794252044261, 0.25093054994461733, 0.6907493819350696, 0.0011921255998704118]\n",
      "0.96 [0.05712794252044261, 0.25093054994461733, 0.6907493819350696, 0.0011921255998704118]\n",
      "0.958 [0.05712794252044261, 0.25093054994461733, 0.6907493819350696, 0.0011921255998704118]\n",
      "0.96 [0.05712794252044261, 0.25093054994461733, 0.6907493819350696, 0.0011921255998704118]\n",
      "0.962 [0.05712794252044261, 0.25093054994461733, 0.6907493819350696, 0.0011921255998704118]\n",
      "0.962 [0.05712794252044261, 0.25093054994461733, 0.6907493819350696, 0.0011921255998704118]\n",
      "0.96 [0.05712794252044261, 0.25093054994461733, 0.6907493819350696, 0.0011921255998704118]\n",
      "0.966 [0.05712794252044261, 0.25093054994461733, 0.6907493819350696, 0.0011921255998704118]\n",
      "0.966 [0.05712794252044261, 0.25093054994461733, 0.6907493819350696, 0.0011921255998704118]\n",
      "0.97 [0.05712794252044261, 0.25093054994461733, 0.6907493819350696, 0.0011921255998704118]\n",
      "0.972 [0.05712794252044261, 0.25093054994461733, 0.6907493819350696, 0.0011921255998704118]\n",
      "0.966 [0.05712794252044261, 0.25093054994461733, 0.6907493819350696, 0.0011921255998704118]\n",
      "0.96 [0.05712794252044261, 0.25093054994461733, 0.6907493819350696, 0.0011921255998704118]\n",
      "0.964 [0.05712794252044261, 0.25093054994461733, 0.6907493819350696, 0.0011921255998704118]\n",
      "0.974 [0.0, 0.25093054994461733, 0.6907493819350696, 0.0011921255998704118]\n",
      "0.964 [0.0, 0.26613425220744524, 0.7326013921565874, 0.0012643556359673523]\n",
      "0.964 [0.0, 0.25093054994461733, 0.6907493819350696, 0.0011921255998704118]\n",
      "0.974 [0.0, 0.25093054994461733, 0.6907493819350696, 0.0011921255998704118]\n",
      "0.97 [0.0, 0.25093054994461733, 0.6907493819350696, 0.0011921255998704118]\n",
      "0.972 [0.0, 0.25093054994461733, 0.6907493819350696, 0.0011921255998704118]\n",
      "0.97 [0.0, 0.25093054994461733, 0.6907493819350696, 0.0011921255998704118]\n",
      "0.98 [0.0, 0.25093054994461733, 0.6907493819350696, 0.0011921255998704118]\n",
      "0.968 [0.0, 0.2664711665286686, 0.7335288334713315, 0.0011921255998704118]\n",
      "0.972 [0.0, 0.2664711665286686, 0.7335288334713315, 0.0]\n",
      "0.97 [0.0, 0.25093054994461733, 0.7335288334713315, 0.0]\n",
      "0.97 [0.0, 0.21409555519997117, 0.7859044448000289, 0.0]\n",
      "0.978 [0.0, 0.18383705736750602, 0.8147567995886348, 0.0014061430438592844]\n",
      "0.982 [0.0, 0.18383705736750602, 0.8147567995886348, 0.0014061430438592844]\n",
      "0.976 [0.0, 0.18383705736750602, 0.8147567995886348, 0.0014061430438592844]\n",
      "0.974 [0.0, 0.18383705736750602, 0.8147567995886348, 0.0014061430438592844]\n",
      "0.976 [0.0, 0.18383705736750602, 0.7335288334713315, 0.0014061430438592844]\n",
      "0.988 [0.0, 0.16578326189318002, 0.8329486859314995, 0.0012680521753205625]\n",
      "0.984 [0.0, 0.16578326189318002, 0.8329486859314995, 0.0012680521753205625]\n",
      "0.982 [0.0, 0.16578326189318002, 0.8329486859314995, 0.0014061430438592844]\n",
      "0.986 [0.0, 0.16578326189318002, 0.8329486859314995, 0.0012680521753205625]\n",
      "0.982 [0.0, 0.16578326189318002, 0.8329486859314995, 0.001222241192006203]\n",
      "0.978 [0.0, 0.16578326189318002, 0.8329486859314995, 0.0012680521753205625]\n",
      "0.984 [0.0, 0.16578326189318002, 0.8329486859314995, 0.0012680521753205625]\n",
      "0.988 [0.0, 0.16578326189318002, 0.8329486859314995, 0.0012680521753205625]\n",
      "0.984 [0.0, 0.16578326189318002, 0.8329486859314995, 0.0012680521753205625]\n",
      "0.982 [0.0, 0.16578326189318002, 0.8329486859314995, 0.0012680521753205625]\n",
      "Converged at generation 79\n"
     ]
    }
   ],
   "source": [
    "population = initialize_population()\n",
    "initialize_fitness(population)\n",
    "\n",
    "best_fitness = float(\"-inf\")\n",
    "consecutive_no_improvement = 0\n",
    "max_consecutive_no_improvement = 10\n",
    "\n",
    "for generation in range(100):\n",
    "    offspring = list()\n",
    "\n",
    "    for counter in range(OFFSPRING_SIZE):\n",
    "        if random.random() < MUTATION_PROBABILITY:\n",
    "            p = select_parent(population)\n",
    "            o = mutation(p)\n",
    "        if random.random() < CROSSOVER_PROBABILITY:\n",
    "            p1 = select_parent(population)\n",
    "            p2 = select_parent(population)\n",
    "            o = xover(p1, p2)\n",
    "        offspring.append(o)\n",
    "\n",
    "    combined_population = population + offspring\n",
    "\n",
    "    for i in combined_population:\n",
    "        i.fitness = fitness(i)\n",
    "\n",
    "    combined_population.sort(key=lambda i: i.fitness, reverse=True)\n",
    "    population = combined_population[:POPULATION_SIZE]\n",
    "\n",
    "    if population[0].fitness > best_fitness:\n",
    "        best_fitness = population[0].fitness\n",
    "        consecutive_no_improvement = 0\n",
    "    else:\n",
    "        consecutive_no_improvement += 1\n",
    "\n",
    "    if consecutive_no_improvement >= max_consecutive_no_improvement:\n",
    "        print(f\"Converged at generation {generation}\")\n",
    "        break\n",
    "\n",
    "    print(population[0].fitness, population[0].genotype, flush=True)"
   ]
  }
 ],
 "metadata": {
  "kernelspec": {
   "display_name": "Python 3.10.7 ('ci22-dPIXJ0_o-py3.10')",
   "language": "python",
   "name": "python3"
  },
  "language_info": {
   "codemirror_mode": {
    "name": "ipython",
    "version": 3
   },
   "file_extension": ".py",
   "mimetype": "text/x-python",
   "name": "python",
   "nbconvert_exporter": "python",
   "pygments_lexer": "ipython3",
   "version": "3.12.0"
  },
  "vscode": {
   "interpreter": {
    "hash": "10197e8e2f2aa67e2c349105091c77f4cd384fce4877865f002d9ec653f96bc0"
   }
  }
 },
 "nbformat": 4,
 "nbformat_minor": 2
}
