{
 "cells": [
  {
   "cell_type": "markdown",
   "metadata": {
    "pycharm": {
     "name": "#%% md\n"
    }
   },
   "source": [
    "Copyright **`(c)`** 2022 Giovanni Squillero `<squillero@polito.it>`  \n",
    "[`https://github.com/squillero/computational-intelligence`](https://github.com/squillero/computational-intelligence)  \n",
    "Free for personal or classroom use; see [`LICENSE.md`](https://github.com/squillero/computational-intelligence/blob/master/LICENSE.md) for details.  \n"
   ]
  },
  {
   "cell_type": "markdown",
   "metadata": {
    "pycharm": {
     "name": "#%%\n"
    }
   },
   "source": [
    "# Lab 3: ES\n",
    "\n",
    "## Task\n",
    "\n",
    "Write agents able to play [*Nim*](https://en.wikipedia.org/wiki/Nim), with an arbitrary number of rows and an upper bound $k$ on the number of objects that can be removed in a turn (a.k.a., *subtraction game*).\n",
    "\n",
    "The goal of the game is to **avoid** taking the last object.\n",
    "\n",
    "* Task2.1: An agent using fixed rules based on *nim-sum* (i.e., an *expert system*)\n",
    "* Task2.2: An agent using evolved rules using ES\n",
    "\n",
    "## Instructions\n",
    "\n",
    "* Create the directory `lab2` inside the course repo \n",
    "* Put a `README.md` and your solution (all the files, code and auxiliary data if needed)\n",
    "\n",
    "## Notes\n",
    "\n",
    "* Working in group is not only allowed, but recommended (see: [Ubuntu](https://en.wikipedia.org/wiki/Ubuntu_philosophy) and [Cooperative Learning](https://files.eric.ed.gov/fulltext/EJ1096789.pdf)). Collaborations must be explicitly declared in the `README.md`.\n",
    "* [Yanking](https://www.emacswiki.org/emacs/KillingAndYanking) from the internet is allowed, but sources must be explicitly declared in the `README.md`.\n",
    "\n"
   ]
  },
  {
   "cell_type": "code",
   "execution_count": 183,
   "metadata": {},
   "outputs": [],
   "source": [
    "import logging\n",
    "from pprint import pprint, pformat\n",
    "from collections import namedtuple\n",
    "import random\n",
    "from copy import deepcopy\n"
   ]
  },
  {
   "cell_type": "markdown",
   "metadata": {},
   "source": [
    "## The *Nim* and *Nimply* classes"
   ]
  },
  {
   "cell_type": "code",
   "execution_count": 184,
   "metadata": {},
   "outputs": [],
   "source": [
    "Nimply = namedtuple(\"Nimply\", \"row, num_objects\")"
   ]
  },
  {
   "cell_type": "code",
   "execution_count": 185,
   "metadata": {},
   "outputs": [],
   "source": [
    "class Nim:\n",
    "    def __init__(self, num_rows: int, k: int = None) -> None:\n",
    "        self._rows = [i * 2 + 1 for i in range(num_rows)]\n",
    "        self._k = k\n",
    "\n",
    "    def __bool__(self):\n",
    "        return sum(self._rows) > 0\n",
    "\n",
    "    def __str__(self):\n",
    "        return \"<\" + \" \".join(str(_) for _ in self._rows) + \">\"\n",
    "\n",
    "    @property\n",
    "    def rows(self) -> tuple:\n",
    "        return tuple(self._rows)\n",
    "\n",
    "    def nimming(self, ply: Nimply) -> None:\n",
    "        row, num_objects = ply\n",
    "        assert self._rows[row] >= num_objects\n",
    "        assert self._k is None or num_objects <= self._k\n",
    "        self._rows[row] -= num_objects\n"
   ]
  },
  {
   "cell_type": "markdown",
   "metadata": {},
   "source": [
    "## Sample (and silly) startegies "
   ]
  },
  {
   "cell_type": "code",
   "execution_count": 186,
   "metadata": {},
   "outputs": [],
   "source": [
    "def pure_random(state: Nim) -> Nimply:\n",
    "    \"\"\"A completely random move\"\"\"\n",
    "    row = random.choice([r for r, c in enumerate(state.rows) if c > 0])\n",
    "    num_objects = random.randint(1, state.rows[row])\n",
    "    return Nimply(row, num_objects)"
   ]
  },
  {
   "cell_type": "code",
   "execution_count": 187,
   "metadata": {},
   "outputs": [],
   "source": [
    "def gabriele(state: Nim) -> Nimply:\n",
    "    \"\"\"Pick always the maximum possible number of the lowest row\"\"\"\n",
    "    possible_moves = [(r, o) for r, c in enumerate(state.rows) for o in range(1, c + 1)]\n",
    "    return Nimply(*max(possible_moves, key=lambda m: (-m[0], m[1])))"
   ]
  },
  {
   "cell_type": "code",
   "execution_count": 188,
   "metadata": {},
   "outputs": [],
   "source": [
    "def adaptive(state: Nim) -> Nimply:\n",
    "    \"\"\"A strategy that can adapt its parameters\"\"\"\n",
    "    genome = {\"love_small\": 0.5}"
   ]
  },
  {
   "cell_type": "code",
   "execution_count": 189,
   "metadata": {},
   "outputs": [],
   "source": [
    "import numpy as np\n",
    "\n",
    "\n",
    "def nim_sum(state: Nim) -> int:\n",
    "    tmp = np.array([tuple(int(x) for x in f\"{c:032b}\") for c in state.rows])\n",
    "    xor = tmp.sum(axis=0) % 2\n",
    "    return int(\"\".join(str(_) for _ in xor), base=2)\n",
    "\n",
    "\n",
    "def analize(raw: Nim) -> dict:\n",
    "    cooked = dict()\n",
    "    cooked[\"possible_moves\"] = dict()\n",
    "    for ply in (Nimply(r, o) for r, c in enumerate(raw.rows) for o in range(1, c + 1)):\n",
    "        tmp = deepcopy(raw)\n",
    "        tmp.nimming(ply)\n",
    "        cooked[\"possible_moves\"][ply] = nim_sum(tmp)\n",
    "    return cooked\n",
    "\n",
    "\n",
    "def optimal(state: Nim) -> Nimply:\n",
    "    analysis = analize(state)\n",
    "    logging.debug(f\"analysis:\\n{pformat(analysis)}\")\n",
    "    spicy_moves = [ply for ply, ns in analysis[\"possible_moves\"].items() if ns != 0]\n",
    "    if not spicy_moves:\n",
    "        spicy_moves = list(analysis[\"possible_moves\"].keys())\n",
    "    ply = random.choice(spicy_moves)\n",
    "    return ply"
   ]
  },
  {
   "cell_type": "markdown",
   "metadata": {},
   "source": [
    "## Oversimplified match"
   ]
  },
  {
   "cell_type": "code",
   "execution_count": 190,
   "metadata": {},
   "outputs": [
    {
     "name": "stderr",
     "output_type": "stream",
     "text": [
      "INFO:root:init : <1 3 5 7 9>\n",
      "INFO:root:ply: player 0 plays Nimply(row=3, num_objects=2)\n",
      "INFO:root:status: <1 3 5 5 9>\n",
      "INFO:root:ply: player 1 plays Nimply(row=3, num_objects=3)\n",
      "INFO:root:status: <1 3 5 2 9>\n",
      "INFO:root:ply: player 0 plays Nimply(row=2, num_objects=1)\n",
      "INFO:root:status: <1 3 4 2 9>\n",
      "INFO:root:ply: player 1 plays Nimply(row=1, num_objects=1)\n",
      "INFO:root:status: <1 2 4 2 9>\n",
      "INFO:root:ply: player 0 plays Nimply(row=2, num_objects=3)\n",
      "INFO:root:status: <1 2 1 2 9>\n",
      "INFO:root:ply: player 1 plays Nimply(row=3, num_objects=1)\n",
      "INFO:root:status: <1 2 1 1 9>\n",
      "INFO:root:ply: player 0 plays Nimply(row=1, num_objects=2)\n",
      "INFO:root:status: <1 0 1 1 9>\n",
      "INFO:root:ply: player 1 plays Nimply(row=2, num_objects=1)\n",
      "INFO:root:status: <1 0 0 1 9>\n",
      "INFO:root:ply: player 0 plays Nimply(row=4, num_objects=2)\n",
      "INFO:root:status: <1 0 0 1 7>\n",
      "INFO:root:ply: player 1 plays Nimply(row=3, num_objects=1)\n",
      "INFO:root:status: <1 0 0 0 7>\n",
      "INFO:root:ply: player 0 plays Nimply(row=4, num_objects=7)\n",
      "INFO:root:status: <1 0 0 0 0>\n",
      "INFO:root:ply: player 1 plays Nimply(row=0, num_objects=1)\n",
      "INFO:root:status: <0 0 0 0 0>\n",
      "INFO:root:status: Player 0 won!\n"
     ]
    }
   ],
   "source": [
    "logging.getLogger().setLevel(logging.INFO)\n",
    "\n",
    "strategy = (optimal, pure_random)\n",
    "\n",
    "nim = Nim(5)\n",
    "logging.info(f\"init : {nim}\")\n",
    "player = 0\n",
    "while nim:\n",
    "    ply = strategy[player](nim)\n",
    "    logging.info(f\"ply: player {player} plays {ply}\")\n",
    "    nim.nimming(ply)\n",
    "    logging.info(f\"status: {nim}\")\n",
    "    player = 1 - player\n",
    "logging.info(f\"status: Player {player} won!\")"
   ]
  },
  {
   "cell_type": "markdown",
   "metadata": {},
   "source": [
    "## Task 2.1: Fixed-rules based on nim-sum"
   ]
  },
  {
   "cell_type": "markdown",
   "metadata": {},
   "source": [
    "For the first task I developed an agent that searches for a move that results in a non-zero nim-sum. If that is not possible, it picks randomly instead."
   ]
  },
  {
   "cell_type": "code",
   "execution_count": 191,
   "metadata": {},
   "outputs": [],
   "source": [
    "def nim_sum_agent(state: Nim) -> Nimply:\n",
    "    for row, count in enumerate(state.rows):\n",
    "        for objects in range(1, count + 1):\n",
    "            tmp = deepcopy(state)\n",
    "            tmp.nimming(Nimply(row, objects))\n",
    "            if nim_sum(tmp) != 0:\n",
    "                return Nimply(row, objects)\n",
    "            \n",
    "    return pure_random(state)"
   ]
  },
  {
   "cell_type": "code",
   "execution_count": 192,
   "metadata": {},
   "outputs": [],
   "source": [
    "def compare_strategies(strat_1, strat_2, runs=20):\n",
    "    counts = [0, 0]\n",
    "    for _ in range(runs):\n",
    "        strategy = (strat_1, strat_2)\n",
    "        nim = Nim(5)\n",
    "        player = 0\n",
    "        while nim:\n",
    "            ply = strategy[player](nim)\n",
    "            nim.nimming(ply)\n",
    "            player = 1 - player\n",
    "        counts[player] += 1\n",
    "    return counts"
   ]
  },
  {
   "cell_type": "markdown",
   "metadata": {},
   "source": [
    "We can see that it tends to preform better than random and gabriele, but still struggles against optimal, as they are equivalent."
   ]
  },
  {
   "cell_type": "code",
   "execution_count": 193,
   "metadata": {},
   "outputs": [
    {
     "name": "stdout",
     "output_type": "stream",
     "text": [
      "[14, 6]\n",
      "[20, 0]\n",
      "[4, 16]\n"
     ]
    }
   ],
   "source": [
    "print(compare_strategies(nim_sum_agent, pure_random))\n",
    "print(compare_strategies(nim_sum_agent, gabriele))\n",
    "print(compare_strategies(nim_sum_agent, optimal))"
   ]
  },
  {
   "cell_type": "markdown",
   "metadata": {},
   "source": [
    "## Task 2.2: An agent using evolved rules using ES"
   ]
  },
  {
   "cell_type": "code",
   "execution_count": 194,
   "metadata": {},
   "outputs": [],
   "source": [
    "POPULATION_SIZE = 30\n",
    "OFFSPRING_SIZE = 20\n",
    "TOURNAMENT_SIZE = 2\n",
    "MUTATION_PROBABILITY = .15"
   ]
  },
  {
   "cell_type": "code",
   "execution_count": 195,
   "metadata": {},
   "outputs": [],
   "source": [
    "# Create a population of individuals that represent a set of rules for playing nim.\n",
    "\n",
    "from dataclasses import dataclass\n",
    "\n",
    "\n",
    "STRATEGIES = [pure_random, gabriele, nim_sum_agent]\n",
    "\n",
    "\n",
    "@dataclass\n",
    "class Individual:\n",
    "    genotype: list\n",
    "    fitness: None\n",
    "\n",
    "    def __str__(self) -> str:\n",
    "        return f\"Genotype: {self.genotype}, Fitness: {self.fitness}\"\n",
    "\n",
    "    def pick_strategy(self) -> callable:\n",
    "        chosen_strategy = random.choices(STRATEGIES, self.genotype)[0]\n",
    "        return chosen_strategy\n",
    "\n",
    "\n",
    "\n",
    "# Weights initialized to sum up to 1, representing how likely a strategy is\n",
    "# to be chosen.\n",
    "def initialize_population() -> list[Individual]:\n",
    "    population = []\n",
    "    for _ in range(POPULATION_SIZE):\n",
    "        weights = [random.random() for _ in range(len(STRATEGIES))]\n",
    "        weights = [*[x / sum(weights) for x in weights]]\n",
    "        population.append(Individual(genotype=weights, fitness=None))\n",
    "\n",
    "    return population"
   ]
  },
  {
   "cell_type": "code",
   "execution_count": 196,
   "metadata": {},
   "outputs": [],
   "source": [
    "# Evaluate the fitness of each individual by playing a number of games and counting the wins\n",
    "\n",
    "\n",
    "def fitness(individual: Individual, num_games=20) -> float:\n",
    "    wins = 0\n",
    "\n",
    "    for _ in range(num_games):\n",
    "        n = Nim(5)\n",
    "        player = 0\n",
    "        while n:\n",
    "            strategy = individual.pick_strategy() if player == 0 else pure_random\n",
    "            ply = strategy(n)\n",
    "            n.nimming(ply)\n",
    "            player = 1 - player\n",
    "\n",
    "        # opponent picked last\n",
    "        if player == 1:\n",
    "            wins += 1\n",
    "\n",
    "    return wins / num_games\n",
    "\n",
    "\n",
    "def initialize_fitness(population):\n",
    "    for p in population:\n",
    "        p.fitness = fitness(p, num_games=20)"
   ]
  },
  {
   "cell_type": "code",
   "execution_count": 197,
   "metadata": {},
   "outputs": [],
   "source": [
    "# select individuals to be the next parents\n",
    "def select_parent(population):\n",
    "    pool = [random.choice(population) for _ in range(TOURNAMENT_SIZE)]\n",
    "    champion = max(pool, key=lambda i: i.fitness)\n",
    "    return champion"
   ]
  },
  {
   "cell_type": "code",
   "execution_count": 198,
   "metadata": {},
   "outputs": [],
   "source": [
    "# mutation and crossover\n",
    "\n",
    "\n",
    "def mutation(individual: Individual) -> list:\n",
    "    where = random.randint(0, len(individual.genotype) - 1)\n",
    "    new = deepcopy(individual.genotype)\n",
    "    new[where] = random.uniform(0, 1)\n",
    "    return Individual(genotype=[*(x / sum(new) for x in new)], fitness=None)\n",
    "\n",
    "\n",
    "def xover(first, second):\n",
    "    cut_point = random.randint(0, len(STRATEGIES) - 1)\n",
    "    offspring = Individual(\n",
    "        fitness=None, genotype=first.genotype[:cut_point] + second.genotype[cut_point:]\n",
    "    )\n",
    "    return offspring"
   ]
  },
  {
   "cell_type": "code",
   "execution_count": 201,
   "metadata": {},
   "outputs": [
    {
     "name": "stdout",
     "output_type": "stream",
     "text": [
      "0.8 [0.342103124762283, 0.3360206749519814, 0.3218762002857357]\n",
      "0.8 [0.2424440450098644, 0.5357427403110471, 0.2218132146790886]\n",
      "0.85 [0.22213943927841384, 0.33014893962948916, 0.4477116210920971]\n",
      "0.85 [0.7739539619370444, 0.5329691817189934, 0.19326448926126555]\n",
      "0.85 [0.7739539619370444, 0.5329691817189934, 0.19326448926126555]\n",
      "0.85 [0.375855957054199, 0.612504472777983, 0.011639570167818063]\n",
      "0.9 [0.375855957054199, 0.612504472777983, 0.19326448926126555]\n",
      "0.9 [0.375855957054199, 0.612504472777983, 0.19326448926126555]\n",
      "0.9 [0.12474059768492057, 0.6189824891355988, 0.2876708297762551]\n",
      "0.9 [0.375855957054199, 0.612504472777983, 0.011639570167818063]\n",
      "0.9 [0.375855957054199, 0.612504472777983, 0.011639570167818063]\n",
      "0.9 [0.375855957054199, 0.612504472777983, 0.19326448926126555]\n",
      "0.95 [0.7739539619370444, 0.19116006226098647, 0.03488597580196929]\n",
      "0.95 [0.7739539619370444, 0.19116006226098647, 0.03488597580196929]\n",
      "0.95 [0.7739539619370444, 0.19116006226098647, 0.03488597580196929]\n",
      "0.95 [0.12474059768492057, 0.6189824891355988, 0.03488597580196929]\n",
      "0.95 [0.12474059768492057, 0.6189824891355988, 0.03488597580196929]\n",
      "0.95 [0.12474059768492057, 0.6189824891355988, 0.03488597580196929]\n",
      "0.95 [0.12474059768492057, 0.6189824891355988, 0.03488597580196929]\n",
      "0.95 [0.12474059768492057, 0.6189824891355988, 0.03488597580196929]\n",
      "0.95 [0.12474059768492057, 0.6189824891355988, 0.03488597580196929]\n",
      "0.95 [0.12474059768492057, 0.6189824891355988, 0.03488597580196929]\n",
      "0.95 [0.12474059768492057, 0.6189824891355988, 0.2876708297762551]\n",
      "0.95 [0.12474059768492057, 0.6189824891355988, 0.2876708297762551]\n",
      "0.95 [0.12474059768492057, 0.6189824891355988, 0.2876708297762551]\n",
      "0.95 [0.12474059768492057, 0.612504472777983, 0.011639570167818063]\n",
      "0.95 [0.12474059768492057, 0.612504472777983, 0.011639570167818063]\n",
      "0.95 [0.12474059768492057, 0.612504472777983, 0.011639570167818063]\n",
      "0.95 [0.375855957054199, 0.612504472777983, 0.2876708297762551]\n",
      "0.95 [0.12474059768492057, 0.612504472777983, 0.23072698550467824]\n",
      "0.95 [0.12474059768492057, 0.612504472777983, 0.23072698550467824]\n",
      "0.95 [0.11042424029388705, 0.8792720517154299, 0.010303707990683093]\n",
      "0.95 [0.11042424029388705, 0.8792720517154299, 0.010303707990683093]\n",
      "0.95 [0.11042424029388705, 0.8792720517154299, 0.010303707990683093]\n",
      "0.95 [0.11042424029388705, 0.8792720517154299, 0.010303707990683093]\n",
      "0.95 [0.11042424029388705, 0.8792720517154299, 0.010303707990683093]\n",
      "0.95 [0.11042424029388705, 0.8792720517154299, 0.010303707990683093]\n",
      "0.95 [0.12474059768492057, 0.612504472777983, 0.011639570167818063]\n",
      "0.95 [0.12474059768492057, 0.612504472777983, 0.011639570167818063]\n",
      "0.95 [0.12474059768492057, 0.612504472777983, 0.011639570167818063]\n",
      "0.95 [0.12474059768492057, 0.612504472777983, 0.011639570167818063]\n",
      "0.95 [0.12474059768492057, 0.6189824891355988, 0.2876708297762551]\n",
      "0.95 [0.12474059768492057, 0.6189824891355988, 0.2876708297762551]\n",
      "0.95 [0.12474059768492057, 0.6189824891355988, 0.2876708297762551]\n",
      "0.95 [0.12474059768492057, 0.6189824891355988, 0.2876708297762551]\n",
      "0.95 [0.12474059768492057, 0.6189824891355988, 0.2876708297762551]\n",
      "0.95 [0.12474059768492057, 0.6189824891355988, 0.2876708297762551]\n",
      "0.95 [0.12474059768492057, 0.6189824891355988, 0.2876708297762551]\n",
      "0.95 [0.12474059768492057, 0.6189824891355988, 0.2876708297762551]\n",
      "0.95 [0.12474059768492057, 0.6189824891355988, 0.2876708297762551]\n",
      "0.95 [0.375855957054199, 0.612504472777983, 0.2876708297762551]\n",
      "0.95 [0.375855957054199, 0.612504472777983, 0.2876708297762551]\n",
      "0.95 [0.375855957054199, 0.612504472777983, 0.2876708297762551]\n",
      "1.0 [0.12474059768492057, 0.612504472777983, 0.011639570167818063]\n",
      "1.0 [0.12474059768492057, 0.612504472777983, 0.011639570167818063]\n",
      "1.0 [0.12474059768492057, 0.612504472777983, 0.011639570167818063]\n",
      "1.0 [0.12474059768492057, 0.612504472777983, 0.011639570167818063]\n",
      "1.0 [0.12474059768492057, 0.612504472777983, 0.011639570167818063]\n",
      "1.0 [0.12474059768492057, 0.612504472777983, 0.011639570167818063]\n",
      "1.0 [0.12474059768492057, 0.612504472777983, 0.011639570167818063]\n",
      "1.0 [0.12474059768492057, 0.612504472777983, 0.011639570167818063]\n",
      "1.0 [0.12474059768492057, 0.612504472777983, 0.011639570167818063]\n",
      "1.0 [0.12474059768492057, 0.612504472777983, 0.011639570167818063]\n",
      "1.0 [0.12474059768492057, 0.612504472777983, 0.011639570167818063]\n",
      "1.0 [0.12474059768492057, 0.612504472777983, 0.011639570167818063]\n",
      "1.0 [0.12474059768492057, 0.612504472777983, 0.011639570167818063]\n",
      "1.0 [0.12474059768492057, 0.612504472777983, 0.011639570167818063]\n",
      "1.0 [0.12474059768492057, 0.612504472777983, 0.011639570167818063]\n",
      "1.0 [0.12474059768492057, 0.612504472777983, 0.011639570167818063]\n",
      "1.0 [0.12474059768492057, 0.612504472777983, 0.011639570167818063]\n",
      "1.0 [0.12474059768492057, 0.612504472777983, 0.011639570167818063]\n",
      "1.0 [0.12474059768492057, 0.612504472777983, 0.011639570167818063]\n",
      "1.0 [0.12474059768492057, 0.612504472777983, 0.011639570167818063]\n",
      "1.0 [0.12474059768492057, 0.612504472777983, 0.011639570167818063]\n",
      "1.0 [0.12474059768492057, 0.612504472777983, 0.011639570167818063]\n",
      "1.0 [0.12474059768492057, 0.612504472777983, 0.011639570167818063]\n",
      "1.0 [0.12474059768492057, 0.612504472777983, 0.011639570167818063]\n",
      "1.0 [0.12474059768492057, 0.612504472777983, 0.011639570167818063]\n",
      "1.0 [0.12474059768492057, 0.612504472777983, 0.011639570167818063]\n",
      "1.0 [0.12474059768492057, 0.612504472777983, 0.011639570167818063]\n",
      "1.0 [0.12474059768492057, 0.612504472777983, 0.011639570167818063]\n",
      "1.0 [0.12474059768492057, 0.612504472777983, 0.011639570167818063]\n",
      "1.0 [0.12474059768492057, 0.612504472777983, 0.011639570167818063]\n",
      "1.0 [0.12474059768492057, 0.612504472777983, 0.011639570167818063]\n",
      "1.0 [0.12474059768492057, 0.612504472777983, 0.011639570167818063]\n",
      "1.0 [0.12474059768492057, 0.612504472777983, 0.011639570167818063]\n",
      "1.0 [0.12474059768492057, 0.612504472777983, 0.011639570167818063]\n",
      "1.0 [0.12474059768492057, 0.612504472777983, 0.011639570167818063]\n",
      "1.0 [0.12474059768492057, 0.612504472777983, 0.011639570167818063]\n",
      "1.0 [0.12474059768492057, 0.612504472777983, 0.011639570167818063]\n",
      "1.0 [0.12474059768492057, 0.612504472777983, 0.011639570167818063]\n",
      "1.0 [0.12474059768492057, 0.612504472777983, 0.011639570167818063]\n",
      "1.0 [0.12474059768492057, 0.612504472777983, 0.011639570167818063]\n",
      "1.0 [0.12474059768492057, 0.612504472777983, 0.011639570167818063]\n",
      "1.0 [0.12474059768492057, 0.612504472777983, 0.011639570167818063]\n",
      "1.0 [0.12474059768492057, 0.612504472777983, 0.011639570167818063]\n",
      "1.0 [0.12474059768492057, 0.612504472777983, 0.011639570167818063]\n",
      "1.0 [0.12474059768492057, 0.612504472777983, 0.011639570167818063]\n",
      "1.0 [0.12474059768492057, 0.612504472777983, 0.011639570167818063]\n",
      "1.0 [0.12474059768492057, 0.612504472777983, 0.011639570167818063]\n"
     ]
    }
   ],
   "source": [
    "# update population\n",
    "\n",
    "population = initialize_population()\n",
    "initialize_fitness(population)\n",
    "\n",
    "for generation in range(100):\n",
    "    offspring = list()\n",
    "    for counter in range(OFFSPRING_SIZE):\n",
    "        if random.random() < MUTATION_PROBABILITY:  # self-adapt mutation probability\n",
    "            # mutation  # add more clever mutations\n",
    "            p = select_parent(population)\n",
    "            o = mutation(p)\n",
    "        else:\n",
    "            # xover # add more xovers\n",
    "            p1 = select_parent(population)\n",
    "            p2 = select_parent(population)\n",
    "            o = xover(p1, p2)\n",
    "        offspring.append(o)\n",
    "\n",
    "    for i in range(len(offspring)):\n",
    "        offspring[i].fitness = fitness(offspring[i])\n",
    "\n",
    "    population.extend(offspring)\n",
    "    population.sort(key=lambda i: i.fitness, reverse=True)\n",
    "    population = population[:POPULATION_SIZE]\n",
    "    print(population[0].fitness, population[9].genotype)"
   ]
  }
 ],
 "metadata": {
  "kernelspec": {
   "display_name": "Python 3.10.7 ('ci22-dPIXJ0_o-py3.10')",
   "language": "python",
   "name": "python3"
  },
  "language_info": {
   "codemirror_mode": {
    "name": "ipython",
    "version": 3
   },
   "file_extension": ".py",
   "mimetype": "text/x-python",
   "name": "python",
   "nbconvert_exporter": "python",
   "pygments_lexer": "ipython3",
   "version": "3.12.0"
  },
  "vscode": {
   "interpreter": {
    "hash": "10197e8e2f2aa67e2c349105091c77f4cd384fce4877865f002d9ec653f96bc0"
   }
  }
 },
 "nbformat": 4,
 "nbformat_minor": 2
}
