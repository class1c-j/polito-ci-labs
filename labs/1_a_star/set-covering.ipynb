{
 "cells": [
  {
   "cell_type": "markdown",
   "metadata": {},
   "source": [
    "# LAB 1: Path Search for the Set Covering Problem"
   ]
  },
  {
   "cell_type": "code",
   "execution_count": 2,
   "metadata": {},
   "outputs": [
    {
     "name": "stderr",
     "output_type": "stream",
     "text": [
      "/home/ritam/Documents/polito/ci/polito-ci-labs/.venv/lib/python3.11/site-packages/tqdm/auto.py:21: TqdmWarning: IProgress not found. Please update jupyter and ipywidgets. See https://ipywidgets.readthedocs.io/en/stable/user_install.html\n",
      "  from .autonotebook import tqdm as notebook_tqdm\n"
     ]
    }
   ],
   "source": [
    "from random import random\n",
    "from math import ceil\n",
    "from functools import reduce\n",
    "from collections import namedtuple, deque\n",
    "from queue import PriorityQueue\n",
    "\n",
    "import numpy as np\n",
    "from tqdm.auto import tqdm"
   ]
  },
  {
   "cell_type": "code",
   "execution_count": 3,
   "metadata": {},
   "outputs": [],
   "source": [
    "PROBLEM_SIZE = 25\n",
    "NUM_SETS = 50\n",
    "SETS = tuple(\n",
    "    np.array([random() < 0.2 for _ in range(PROBLEM_SIZE)]) for _ in range(NUM_SETS)\n",
    ")\n",
    "State = namedtuple(\"State\", [\"taken\", \"not_taken\"])"
   ]
  },
  {
   "cell_type": "code",
   "execution_count": 4,
   "metadata": {},
   "outputs": [],
   "source": [
    "def covered(state):\n",
    "    return reduce(\n",
    "        np.logical_or,\n",
    "        [SETS[i] for i in state.taken],\n",
    "        np.array([False for _ in range(PROBLEM_SIZE)]),\n",
    "    )\n",
    "\n",
    "\n",
    "def goal_check(state):\n",
    "    return np.all(covered(state))"
   ]
  },
  {
   "cell_type": "code",
   "execution_count": 5,
   "metadata": {},
   "outputs": [],
   "source": [
    "assert goal_check(State(set(range(NUM_SETS)), set())), \"Problem not solvable\""
   ]
  },
  {
   "cell_type": "markdown",
   "metadata": {},
   "source": [
    "## Greedy Best First"
   ]
  },
  {
   "cell_type": "code",
   "execution_count": 6,
   "metadata": {},
   "outputs": [],
   "source": [
    "def f(state):\n",
    "    missing_size = PROBLEM_SIZE - sum(covered(state))\n",
    "    return missing_size"
   ]
  },
  {
   "cell_type": "code",
   "execution_count": 7,
   "metadata": {},
   "outputs": [
    {
     "name": "stderr",
     "output_type": "stream",
     "text": [
      "5it [00:00, 1585.87it/s]"
     ]
    },
    {
     "name": "stdout",
     "output_type": "stream",
     "text": [
      "Solved in 5 steps (5 tiles)\n"
     ]
    },
    {
     "name": "stderr",
     "output_type": "stream",
     "text": [
      "\n"
     ]
    }
   ],
   "source": [
    "frontier = PriorityQueue()\n",
    "state = State(set(), set(range(NUM_SETS)))\n",
    "frontier.put((f(state), state))\n",
    "\n",
    "counter = 0\n",
    "_, current_state = frontier.get()\n",
    "with tqdm(total=None) as pbar:\n",
    "    while not goal_check(current_state):\n",
    "        counter += 1\n",
    "        for action in current_state[1]:\n",
    "            new_state = State(\n",
    "                current_state.taken ^ {action},\n",
    "                current_state.not_taken ^ {action},\n",
    "            )\n",
    "            frontier.put((f(new_state), new_state))\n",
    "        _, current_state = frontier.get()\n",
    "        pbar.update(1)\n",
    "\n",
    "print(f\"Solved in {counter:,} steps ({len(current_state.taken)} tiles)\")"
   ]
  },
  {
   "cell_type": "code",
   "execution_count": 8,
   "metadata": {},
   "outputs": [
    {
     "data": {
      "text/plain": [
       "State(taken={33, 3, 8, 12, 25}, not_taken={0, 1, 2, 4, 5, 6, 7, 9, 10, 11, 13, 14, 15, 16, 17, 18, 19, 20, 21, 22, 23, 24, 26, 27, 28, 29, 30, 31, 32, 34, 35, 36, 37, 38, 39, 40, 41, 42, 43, 44, 45, 46, 47, 48, 49})"
      ]
     },
     "execution_count": 8,
     "metadata": {},
     "output_type": "execute_result"
    }
   ],
   "source": [
    "current_state"
   ]
  },
  {
   "cell_type": "code",
   "execution_count": 9,
   "metadata": {},
   "outputs": [
    {
     "data": {
      "text/plain": [
       "True"
      ]
     },
     "execution_count": 9,
     "metadata": {},
     "output_type": "execute_result"
    }
   ],
   "source": [
    "goal_check(current_state)"
   ]
  },
  {
   "cell_type": "markdown",
   "metadata": {},
   "source": [
    "## A*"
   ]
  },
  {
   "cell_type": "markdown",
   "metadata": {},
   "source": [
    "### Algorithm"
   ]
  },
  {
   "cell_type": "code",
   "execution_count": 10,
   "metadata": {},
   "outputs": [],
   "source": [
    "def f(state, cost, heuristic):\n",
    "    return cost(state) + heuristic(state)\n",
    "\n",
    "\n",
    "def a_star(cost, heuristic):\n",
    "    frontier = PriorityQueue()\n",
    "\n",
    "    state = State(set(), set(range(NUM_SETS)))\n",
    "    frontier.put((f(state, cost, heuristic), state))\n",
    "\n",
    "    counter = 0\n",
    "    _, current_state = frontier.get()\n",
    "    with tqdm(total=None) as pbar:\n",
    "        while not goal_check(current_state):\n",
    "            counter += 1\n",
    "            for action in current_state[1]:\n",
    "                new_state = State(\n",
    "                    current_state.taken ^ {action},\n",
    "                    current_state.not_taken ^ {action},\n",
    "                )\n",
    "                frontier.put((f(new_state, cost, heuristic), new_state))\n",
    "            _, current_state = frontier.get()\n",
    "            pbar.update(1)\n",
    "\n",
    "    print(f\"Solved in {counter:,} steps ({len(current_state.taken)} tiles)\")\n",
    "    return current_state"
   ]
  },
  {
   "cell_type": "markdown",
   "metadata": {},
   "source": [
    "### Heuristics defined in the lecture\n",
    "\n",
    "- `h1(state)`: calculates the number of additional sets required to cover the remaining elements, assuming the size of the largest set;\n",
    "- `h2(state)`: similar to `h1(state)`, but does not consider sets that had already been taken when finding the largest set;\n",
    "- `h3(state)`: similar to `h2(state)` and `h(3)`, but it estimates the number of additional needed sets by iteratively selecting sets in descending order of size until the uncovered elements are sufficiently covered; "
   ]
  },
  {
   "cell_type": "code",
   "execution_count": 11,
   "metadata": {},
   "outputs": [],
   "source": [
    "def cost(state):\n",
    "    return len(state.taken)\n",
    "\n",
    "\n",
    "def h1(state):\n",
    "    largest_set_size = max(sum(s) for s in SETS)\n",
    "    missing_size = PROBLEM_SIZE - sum(covered(state))\n",
    "    optimistic_estimate = ceil(missing_size / largest_set_size)\n",
    "    return optimistic_estimate\n",
    "\n",
    "\n",
    "def h2(state):\n",
    "    already_covered = covered(state)\n",
    "    if np.all(already_covered):\n",
    "        return 0\n",
    "    largest_set_size = max(\n",
    "        sum(np.logical_and(s, np.logical_not(already_covered))) for s in SETS\n",
    "    )\n",
    "    missing_size = PROBLEM_SIZE - sum(already_covered)\n",
    "    optimistic_estimate = ceil(missing_size / largest_set_size)\n",
    "    return optimistic_estimate\n",
    "\n",
    "\n",
    "def h3(state):\n",
    "    already_covered = covered(state)\n",
    "    if np.all(already_covered):\n",
    "        return 0\n",
    "    missing_size = PROBLEM_SIZE - sum(already_covered)\n",
    "    candidates = sorted(\n",
    "        (sum(np.logical_and(s, np.logical_not(already_covered))) for s in SETS),\n",
    "        reverse=True,\n",
    "    )\n",
    "    taken = 1\n",
    "    while sum(candidates[:taken]) < missing_size:\n",
    "        taken += 1\n",
    "    return taken"
   ]
  },
  {
   "cell_type": "markdown",
   "metadata": {},
   "source": [
    "#### Results"
   ]
  },
  {
   "cell_type": "code",
   "execution_count": 12,
   "metadata": {},
   "outputs": [
    {
     "name": "stdout",
     "output_type": "stream",
     "text": [
      "Heuristic 1\n"
     ]
    },
    {
     "name": "stderr",
     "output_type": "stream",
     "text": [
      "45761it [05:15, 145.07it/s]\n"
     ]
    },
    {
     "name": "stdout",
     "output_type": "stream",
     "text": [
      "Solved in 45,761 steps (5 tiles)\n",
      "State(taken={32, 1, 3, 8, 11}, not_taken={0, 2, 4, 5, 6, 7, 9, 10, 12, 13, 14, 15, 16, 17, 18, 19, 20, 21, 22, 23, 24, 25, 26, 27, 28, 29, 30, 31, 33, 34, 35, 36, 37, 38, 39, 40, 41, 42, 43, 44, 45, 46, 47, 48, 49})\n",
      "\n",
      "Heuristic 2\n"
     ]
    },
    {
     "name": "stderr",
     "output_type": "stream",
     "text": [
      "2725it [00:23, 115.77it/s]\n"
     ]
    },
    {
     "name": "stdout",
     "output_type": "stream",
     "text": [
      "Solved in 2,725 steps (5 tiles)\n",
      "State(taken={4, 38, 12, 13, 31}, not_taken={0, 1, 2, 3, 5, 6, 7, 8, 9, 10, 11, 14, 15, 16, 17, 18, 19, 20, 21, 22, 23, 24, 25, 26, 27, 28, 29, 30, 32, 33, 34, 35, 36, 37, 39, 40, 41, 42, 43, 44, 45, 46, 47, 48, 49})\n",
      "\n",
      "Heuristic 3\n"
     ]
    },
    {
     "name": "stderr",
     "output_type": "stream",
     "text": [
      "1331it [00:11, 112.01it/s]"
     ]
    },
    {
     "name": "stdout",
     "output_type": "stream",
     "text": [
      "Solved in 1,331 steps (5 tiles)\n",
      "State(taken={37, 10, 11, 42, 21}, not_taken={0, 1, 2, 3, 4, 5, 6, 7, 8, 9, 12, 13, 14, 15, 16, 17, 18, 19, 20, 22, 23, 24, 25, 26, 27, 28, 29, 30, 31, 32, 33, 34, 35, 36, 38, 39, 40, 41, 43, 44, 45, 46, 47, 48, 49})\n"
     ]
    },
    {
     "name": "stderr",
     "output_type": "stream",
     "text": [
      "\n"
     ]
    }
   ],
   "source": [
    "print(\"Heuristic 1\")\n",
    "print(a_star(cost, h1))\n",
    "print()\n",
    "\n",
    "print(\"Heuristic 2\")\n",
    "print(a_star(cost, h2))\n",
    "print()\n",
    "\n",
    "print(\"Heuristic 3\")\n",
    "print(a_star(cost, h3))"
   ]
  },
  {
   "cell_type": "markdown",
   "metadata": {},
   "source": [
    "### Additional heuristics"
   ]
  },
  {
   "cell_type": "markdown",
   "metadata": {},
   "source": [
    "- At first, guided from what we had seen in the lecture, I attempted to use the greedy algorithm's distance function as the heuristic, but that is not correct for A* since it is not asmissible, and will not find the optimal solution.\n",
    "- I include it here along with a function that verifies if a given heuristic is admissible by trying to find states where `h(s)` is not less than or equal to the actual cost to reach the goal from `s`."
   ]
  },
  {
   "cell_type": "code",
   "execution_count": 13,
   "metadata": {},
   "outputs": [
    {
     "name": "stdout",
     "output_type": "stream",
     "text": [
      "Heuristic 4\n"
     ]
    },
    {
     "name": "stderr",
     "output_type": "stream",
     "text": [
      "5it [00:00, 2775.11it/s]"
     ]
    },
    {
     "name": "stdout",
     "output_type": "stream",
     "text": [
      "Solved in 5 steps (5 tiles)\n",
      "State(taken={33, 3, 8, 12, 25}, not_taken={0, 1, 2, 4, 5, 6, 7, 9, 10, 11, 13, 14, 15, 16, 17, 18, 19, 20, 21, 22, 23, 24, 26, 27, 28, 29, 30, 31, 32, 34, 35, 36, 37, 38, 39, 40, 41, 42, 43, 44, 45, 46, 47, 48, 49})\n"
     ]
    },
    {
     "name": "stderr",
     "output_type": "stream",
     "text": [
      "\n"
     ]
    }
   ],
   "source": [
    "def h4(state):\n",
    "    return PROBLEM_SIZE - np.count_nonzero(\n",
    "        reduce(\n",
    "            np.logical_or,\n",
    "            [SETS[i] for i in state.taken],\n",
    "            np.array([0] * PROBLEM_SIZE),\n",
    "        )\n",
    "    )\n",
    "\n",
    "print(\"Heuristic 4\")\n",
    "print(a_star(cost, h4))"
   ]
  },
  {
   "cell_type": "code",
   "execution_count": 14,
   "metadata": {},
   "outputs": [
    {
     "name": "stdout",
     "output_type": "stream",
     "text": [
      "Heuristic is not admissible.\n"
     ]
    },
    {
     "data": {
      "text/plain": [
       "False"
      ]
     },
     "execution_count": 14,
     "metadata": {},
     "output_type": "execute_result"
    }
   ],
   "source": [
    "def is_admissibile(h):\n",
    "    for s in range(NUM_SETS):\n",
    "        for t in range(NUM_SETS):\n",
    "            if s != t:\n",
    "                for _ in SETS[s] & ~SETS[t]:\n",
    "                    h_s = h(State({s}, set(range(NUM_SETS)) - {s}))\n",
    "                    h_t = h(State({t}, set(range(NUM_SETS)) - {t}))\n",
    "\n",
    "                    cost_s_to_t = 1\n",
    "                    \n",
    "                    if h_s > cost_s_to_t + h_t:\n",
    "                        print(\"Heuristic is not admissible.\")\n",
    "                        return False\n",
    "    \n",
    "    print(\"Heuristic is admissible.\")\n",
    "    return True\n",
    "\n",
    "is_admissibile(h4)\n"
   ]
  },
  {
   "cell_type": "code",
   "execution_count": null,
   "metadata": {},
   "outputs": [],
   "source": []
  }
 ],
 "metadata": {
  "kernelspec": {
   "display_name": "ci_labs_env",
   "language": "python",
   "name": "python3"
  },
  "language_info": {
   "codemirror_mode": {
    "name": "ipython",
    "version": 3
   },
   "file_extension": ".py",
   "mimetype": "text/x-python",
   "name": "python",
   "nbconvert_exporter": "python",
   "pygments_lexer": "ipython3",
   "version": "3.11.6"
  }
 },
 "nbformat": 4,
 "nbformat_minor": 2
}
