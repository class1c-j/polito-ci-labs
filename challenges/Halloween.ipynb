{
 "cells": [
  {
   "cell_type": "markdown",
   "id": "185f9931-b384-4fdc-a5b2-eea785428bb8",
   "metadata": {},
   "source": [
    "Copyright **`(c)`** 2023 Giovanni Squillero `<giovanni.squillero@polito.it>`  \n",
    "[`https://github.com/squillero/computational-intelligence`](https://github.com/squillero/computational-intelligence)  \n",
    "Free for personal or classroom use; see [`LICENSE.md`](https://github.com/squillero/computational-intelligence/blob/master/LICENSE.md) for details.  "
   ]
  },
  {
   "cell_type": "code",
   "execution_count": 80,
   "id": "3ffe7245-e849-41d0-9698-5f0e0b83fee9",
   "metadata": {},
   "outputs": [],
   "source": [
    "from itertools import product\n",
    "from random import random, randint, shuffle, seed, choice\n",
    "import numpy as np\n",
    "from scipy import sparse\n",
    "from copy import copy\n",
    "from functools import reduce\n",
    "from collections import namedtuple\n",
    "import math"
   ]
  },
  {
   "cell_type": "code",
   "execution_count": 6,
   "id": "6f03bd67-78a0-4d72-95b7-77a918727b91",
   "metadata": {},
   "outputs": [],
   "source": [
    "def make_set_covering_problem(num_points, num_sets, density):\n",
    "    \"\"\"Returns a sparse array where rows are sets and columns are the covered items\"\"\"\n",
    "    seed(num_points * 2654435761 + num_sets + density)\n",
    "    sets = sparse.lil_array((num_sets, num_points), dtype=bool)\n",
    "    for s, p in product(range(num_sets), range(num_points)):\n",
    "        if random() < density:\n",
    "            sets[s, p] = True\n",
    "    for p in range(num_points):\n",
    "        sets[randint(0, num_sets - 1), p] = True\n",
    "    return sets"
   ]
  },
  {
   "cell_type": "markdown",
   "id": "82b0be37-21d9-492d-9a1d-cf0cdf0ddd76",
   "metadata": {},
   "source": [
    "# Halloween Challenge\n",
    "\n",
    "Find the best solution with the fewest calls to the fitness functions for:\n",
    "\n",
    "* `num_points = [100, 1_000, 5_000]`\n",
    "* `num_sets = num_points`\n",
    "* `density = [.3, .7]` "
   ]
  },
  {
   "cell_type": "code",
   "execution_count": 35,
   "id": "221ffdba-5d3d-48cc-bd08-45ccc9366ea6",
   "metadata": {},
   "outputs": [
    {
     "name": "stdout",
     "output_type": "stream",
     "text": [
      "Element at row=42 and column=42: True\n"
     ]
    }
   ],
   "source": [
    "NUM_POINTS = [100, 1_000, 5_000]\n",
    "NUM_SETS = NUM_POINTS\n",
    "DENSITY = [.3, .7]\n"
   ]
  },
  {
   "cell_type": "markdown",
   "id": "40e48925",
   "metadata": {},
   "source": [
    "## Hill Climbing"
   ]
  },
  {
   "cell_type": "code",
   "execution_count": 79,
   "id": "6492337b-8429-472d-9c3e-c79c5b46da54",
   "metadata": {},
   "outputs": [
    {
     "name": "stdout",
     "output_type": "stream",
     "text": [
      "Number of points: 100; Density: 0.3; Avg Calls: 12\n",
      "Number of points: 100; Density: 0.7; Avg Calls: 4\n",
      "Number of points: 1000; Density: 0.3; Avg Calls: 21\n",
      "Number of points: 1000; Density: 0.7; Avg Calls: 6\n",
      "Number of points: 5000; Density: 0.3; Avg Calls: 24\n",
      "Number of points: 5000; Density: 0.7; Avg Calls: 7\n"
     ]
    }
   ],
   "source": [
    "def fitness(state, sets):\n",
    "    selected_sets = [i for i, t in enumerate(state) if t]\n",
    "    items_covered = np.any(sets[selected_sets], axis=0)\n",
    "    return np.all(items_covered), -sum(state) if np.all(items_covered) else 0\n",
    "\n",
    "\n",
    "def tweak(state, problem_size):\n",
    "    new_state = copy(state)\n",
    "    index = randint(0, problem_size - 1)\n",
    "    new_state[index] = not new_state[index]\n",
    "    return new_state\n",
    "\n",
    "\n",
    "def hill_climbing(current_state, sets, problem_size):\n",
    "    counter = 0\n",
    "    best_state = current_state\n",
    "    best_fitness = fitness(current_state, sets)\n",
    "    while True:\n",
    "        counter += 1\n",
    "        new_state = tweak(current_state, problem_size)\n",
    "        new_fitness = fitness(new_state, sets)\n",
    "\n",
    "        if new_fitness >= best_fitness:\n",
    "            best_state = new_state\n",
    "            best_fitness = new_fitness\n",
    "\n",
    "        if new_fitness >= fitness(current_state, sets):\n",
    "            current_state = new_state\n",
    "\n",
    "        if new_fitness[0]:\n",
    "            return current_state, fitness(current_state, sets), counter\n",
    "\n",
    "        current_state = best_state\n",
    "\n",
    "\n",
    "total_calls = 0\n",
    "NUMBER_OF_TESTS = 5\n",
    "\n",
    "for size in NUM_POINTS:\n",
    "    for density in DENSITY:\n",
    "        total_calls = 0\n",
    "        for _ in range(NUMBER_OF_TESTS):\n",
    "            x = make_set_covering_problem(size, size, density)\n",
    "            sets = x.toarray()\n",
    "            State = namedtuple(\"State\", [\"taken\", \"not_taken\"])\n",
    "            current_state = [choice([False]) for _ in range(size)]\n",
    "            _, _, calls = hill_climbing(current_state, sets, size)\n",
    "            total_calls += calls\n",
    "\n",
    "        average_calls = total_calls / NUMBER_OF_TESTS\n",
    "        print(f\"Number of points: {size}; Density: {density}; Avg Calls: {calls}\")"
   ]
  },
  {
   "cell_type": "markdown",
   "id": "06a3a1cc",
   "metadata": {},
   "source": [
    "# Simulated Annealing"
   ]
  },
  {
   "cell_type": "code",
   "execution_count": 81,
   "id": "dbf2c5a4",
   "metadata": {},
   "outputs": [
    {
     "ename": "AttributeError",
     "evalue": "'builtin_function_or_method' object has no attribute 'randint'",
     "output_type": "error",
     "traceback": [
      "\u001b[0;31m---------------------------------------------------------------------------\u001b[0m",
      "\u001b[0;31mAttributeError\u001b[0m                            Traceback (most recent call last)",
      "\u001b[1;32m/home/ritam/Documents/polito/ci/polito-ci-labs/challenges/Halloween.ipynb Cell 9\u001b[0m line \u001b[0;36m5\n\u001b[1;32m     <a href='vscode-notebook-cell:/home/ritam/Documents/polito/ci/polito-ci-labs/challenges/Halloween.ipynb#X14sZmlsZQ%3D%3D?line=47'>48</a>\u001b[0m     State \u001b[39m=\u001b[39m namedtuple(\u001b[39m\"\u001b[39m\u001b[39mState\u001b[39m\u001b[39m\"\u001b[39m, [\u001b[39m\"\u001b[39m\u001b[39mtaken\u001b[39m\u001b[39m\"\u001b[39m, \u001b[39m\"\u001b[39m\u001b[39mnot_taken\u001b[39m\u001b[39m\"\u001b[39m])\n\u001b[1;32m     <a href='vscode-notebook-cell:/home/ritam/Documents/polito/ci/polito-ci-labs/challenges/Halloween.ipynb#X14sZmlsZQ%3D%3D?line=48'>49</a>\u001b[0m     current_state \u001b[39m=\u001b[39m [choice([\u001b[39mFalse\u001b[39;00m]) \u001b[39mfor\u001b[39;00m _ \u001b[39min\u001b[39;00m \u001b[39mrange\u001b[39m(size)]\n\u001b[0;32m---> <a href='vscode-notebook-cell:/home/ritam/Documents/polito/ci/polito-ci-labs/challenges/Halloween.ipynb#X14sZmlsZQ%3D%3D?line=49'>50</a>\u001b[0m     _, _, calls \u001b[39m=\u001b[39m simulated_annealing(current_state, sets, size)\n\u001b[1;32m     <a href='vscode-notebook-cell:/home/ritam/Documents/polito/ci/polito-ci-labs/challenges/Halloween.ipynb#X14sZmlsZQ%3D%3D?line=50'>51</a>\u001b[0m     total_calls \u001b[39m+\u001b[39m\u001b[39m=\u001b[39m calls\n\u001b[1;32m     <a href='vscode-notebook-cell:/home/ritam/Documents/polito/ci/polito-ci-labs/challenges/Halloween.ipynb#X14sZmlsZQ%3D%3D?line=52'>53</a>\u001b[0m average_calls \u001b[39m=\u001b[39m total_calls \u001b[39m/\u001b[39m NUMBER_OF_TESTS\n",
      "\u001b[1;32m/home/ritam/Documents/polito/ci/polito-ci-labs/challenges/Halloween.ipynb Cell 9\u001b[0m line \u001b[0;36m1\n\u001b[1;32m      <a href='vscode-notebook-cell:/home/ritam/Documents/polito/ci/polito-ci-labs/challenges/Halloween.ipynb#X14sZmlsZQ%3D%3D?line=7'>8</a>\u001b[0m best_state \u001b[39m=\u001b[39m current_state\n\u001b[1;32m     <a href='vscode-notebook-cell:/home/ritam/Documents/polito/ci/polito-ci-labs/challenges/Halloween.ipynb#X14sZmlsZQ%3D%3D?line=9'>10</a>\u001b[0m \u001b[39mwhile\u001b[39;00m current_temp \u001b[39m>\u001b[39m final_temp:\n\u001b[0;32m---> <a href='vscode-notebook-cell:/home/ritam/Documents/polito/ci/polito-ci-labs/challenges/Halloween.ipynb#X14sZmlsZQ%3D%3D?line=10'>11</a>\u001b[0m     new_state \u001b[39m=\u001b[39m tweak(current_state, problem_size)\n\u001b[1;32m     <a href='vscode-notebook-cell:/home/ritam/Documents/polito/ci/polito-ci-labs/challenges/Halloween.ipynb#X14sZmlsZQ%3D%3D?line=12'>13</a>\u001b[0m     current_fitness, _ \u001b[39m=\u001b[39m fitness(current_state, sets)\n\u001b[1;32m     <a href='vscode-notebook-cell:/home/ritam/Documents/polito/ci/polito-ci-labs/challenges/Halloween.ipynb#X14sZmlsZQ%3D%3D?line=13'>14</a>\u001b[0m     new_fitness, _ \u001b[39m=\u001b[39m fitness(new_state, sets)\n",
      "\u001b[1;32m/home/ritam/Documents/polito/ci/polito-ci-labs/challenges/Halloween.ipynb Cell 9\u001b[0m line \u001b[0;36m3\n\u001b[1;32m     <a href='vscode-notebook-cell:/home/ritam/Documents/polito/ci/polito-ci-labs/challenges/Halloween.ipynb#X14sZmlsZQ%3D%3D?line=32'>33</a>\u001b[0m \u001b[39mdef\u001b[39;00m \u001b[39mtweak\u001b[39m(state, problem_size):\n\u001b[1;32m     <a href='vscode-notebook-cell:/home/ritam/Documents/polito/ci/polito-ci-labs/challenges/Halloween.ipynb#X14sZmlsZQ%3D%3D?line=33'>34</a>\u001b[0m     new_state \u001b[39m=\u001b[39m state\u001b[39m.\u001b[39mcopy()\n\u001b[0;32m---> <a href='vscode-notebook-cell:/home/ritam/Documents/polito/ci/polito-ci-labs/challenges/Halloween.ipynb#X14sZmlsZQ%3D%3D?line=34'>35</a>\u001b[0m     index \u001b[39m=\u001b[39m random\u001b[39m.\u001b[39;49mrandint(\u001b[39m0\u001b[39m, problem_size \u001b[39m-\u001b[39m \u001b[39m1\u001b[39m)\n\u001b[1;32m     <a href='vscode-notebook-cell:/home/ritam/Documents/polito/ci/polito-ci-labs/challenges/Halloween.ipynb#X14sZmlsZQ%3D%3D?line=35'>36</a>\u001b[0m     new_state[index] \u001b[39m=\u001b[39m \u001b[39mnot\u001b[39;00m new_state[index]\n\u001b[1;32m     <a href='vscode-notebook-cell:/home/ritam/Documents/polito/ci/polito-ci-labs/challenges/Halloween.ipynb#X14sZmlsZQ%3D%3D?line=36'>37</a>\u001b[0m     \u001b[39mreturn\u001b[39;00m new_state\n",
      "\u001b[0;31mAttributeError\u001b[0m: 'builtin_function_or_method' object has no attribute 'randint'"
     ]
    }
   ],
   "source": [
    "def simulated_annealing(initial_state, sets, problem_size):\n",
    "    initial_temp = 90\n",
    "    final_temp = 0.1\n",
    "    alpha = 0.01\n",
    "\n",
    "    current_temp = initial_temp\n",
    "    current_state = initial_state\n",
    "    best_state = current_state\n",
    "\n",
    "    while current_temp > final_temp:\n",
    "        new_state = tweak(current_state, problem_size)\n",
    "\n",
    "        current_fitness, _ = fitness(current_state, sets)\n",
    "        new_fitness, _ = fitness(new_state, sets)\n",
    "\n",
    "        if new_fitness >= current_fitness:\n",
    "            current_state = new_state\n",
    "            best_state = new_state\n",
    "        else:\n",
    "            probability = math.exp((new_fitness - current_fitness) / current_temp)\n",
    "            if random.random() < probability:\n",
    "                current_state = new_state\n",
    "\n",
    "        current_temp -= alpha\n",
    "\n",
    "    return best_state\n",
    "\n",
    "def fitness(state, sets):\n",
    "    selected_sets = [i for i, t in enumerate(state) if t]\n",
    "    items_covered = np.any(sets[selected_sets], axis=0)\n",
    "    return np.all(items_covered), -sum(state) if np.all(items_covered) else 0\n",
    "\n",
    "def tweak(state, problem_size):\n",
    "    new_state = state.copy()\n",
    "    index = randint(0, problem_size - 1)\n",
    "    new_state[index] = not new_state[index]\n",
    "    return new_state\n",
    "\n",
    "total_calls = 0\n",
    "NUMBER_OF_TESTS = 5\n",
    "\n",
    "for size in NUM_POINTS:\n",
    "    for density in DENSITY:\n",
    "        total_calls = 0\n",
    "        for _ in range(NUMBER_OF_TESTS):\n",
    "            x = make_set_covering_problem(size, size, density)\n",
    "            sets = x.toarray()\n",
    "            State = namedtuple(\"State\", [\"taken\", \"not_taken\"])\n",
    "            current_state = [choice([False]) for _ in range(size)]\n",
    "            _, _, calls = simulated_annealing(current_state, sets, size)\n",
    "            total_calls += calls\n",
    "\n",
    "        average_calls = total_calls / NUMBER_OF_TESTS\n",
    "        print(f\"Number of points: {size}; Density: {density}; Avg Calls: {calls}\")"
   ]
  }
 ],
 "metadata": {
  "kernelspec": {
   "display_name": "Python 3 (ipykernel)",
   "language": "python",
   "name": "python3"
  },
  "language_info": {
   "codemirror_mode": {
    "name": "ipython",
    "version": 3
   },
   "file_extension": ".py",
   "mimetype": "text/x-python",
   "name": "python",
   "nbconvert_exporter": "python",
   "pygments_lexer": "ipython3",
   "version": "3.11.6"
  }
 },
 "nbformat": 4,
 "nbformat_minor": 5
}
